{
 "cells": [
  {
   "cell_type": "markdown",
   "metadata": {},
   "source": [
    "## Module 4 Final Project - Computer Vision\n",
    "\n",
    "* Student name: Emily J. Cain\n",
    "* Student pace: Full Time\n",
    "* Scheduled project review date: Tuesday, February 26, 2019 \n",
    "* Instructor name: Rafael Carrasco\n",
    "* Blog post URL: https://medium.com/@magicmilly"
   ]
  },
  {
   "cell_type": "markdown",
   "metadata": {},
   "source": [
    "For the optimal Notebook viewing experience, enable [nbextensions](https://github.com/ipython-contrib/jupyter_contrib_nbextensions) for Table of Contents and Collapsible Headings."
   ]
  },
  {
   "cell_type": "markdown",
   "metadata": {},
   "source": [
    "## Objective: Train a Convolutional Neural Network to Classify Retinal Scans\n",
    "The images used as data for this project were obtained from Optical Coherence Tomography (OCT), which is a non-invasive diagnostic test used for examining cross-sections of the retina, though this technology is also applied in other medical and research fields. The images fall into one of four classes:\n",
    "* **CNV** - Choroidal neovascularization - the abnormal growth of blood vessels beneath the retina. CNV is associated with many conditions, including some forms of myopia and macular degeneration. CNV can cause vision distortions and deterioration. \n",
    "* **DME** - Diabetic macular edema - a symptom of diabetic retinopathy that causes fluid build-up within the retina. DME is the most common cause of vision loss associated with poorly-controlled and advanced diabetes. Other types of macular edema exist that are not associated with diabetes.\n",
    "* **Drusen** - fatty deposits under the retina - some types of drusen may affect vision and increase the risk for macular degeneration, while other types may never cause any noticeable problems for the patient.\n",
    "* **Normal** - no abnormalities present"
   ]
  },
  {
   "cell_type": "code",
   "execution_count": 1,
   "metadata": {},
   "outputs": [
    {
     "name": "stderr",
     "output_type": "stream",
     "text": [
      "/anaconda3/envs/learn-env/lib/python3.6/importlib/_bootstrap.py:219: RuntimeWarning: numpy.dtype size changed, may indicate binary incompatibility. Expected 96, got 88\n",
      "  return f(*args, **kwds)\n",
      "Using TensorFlow backend.\n"
     ]
    }
   ],
   "source": [
    "import cv2\n",
    "import datetime\n",
    "import h5py\n",
    "import numpy as np\n",
    "import os\n",
    "import pandas as pd\n",
    "import warnings\n",
    "\n",
    "from collections import Counter\n",
    "from keras import regularizers\n",
    "from keras.callbacks import ReduceLROnPlateau, EarlyStopping\n",
    "from keras.layers import Conv2D, MaxPooling2D, Dense, Dropout, Flatten\n",
    "from keras.models import load_model, Sequential\n",
    "from keras.utils import to_categorical \n",
    "from matplotlib.pyplot import imshow\n",
    "from PIL import Image\n",
    "from sklearn.metrics import confusion_matrix\n",
    "from sklearn.model_selection import train_test_split\n",
    "\n",
    "import matplotlib.pyplot as plt\n",
    "import seaborn as sns\n",
    "\n",
    "%matplotlib inline\n",
    "warnings.filterwarnings(action='ignore', category=FutureWarning)"
   ]
  },
  {
   "cell_type": "markdown",
   "metadata": {
    "heading_collapsed": true
   },
   "source": [
    "## I. Custom Functions Used"
   ]
  },
  {
   "cell_type": "markdown",
   "metadata": {
    "heading_collapsed": true,
    "hidden": true
   },
   "source": [
    "#### Append results DataFrame to easily compare model attributes and results."
   ]
  },
  {
   "cell_type": "code",
   "execution_count": 22,
   "metadata": {
    "hidden": true
   },
   "outputs": [],
   "source": [
    "def append_df(df, idx, results_list):\n",
    "    \n",
    "    \"\"\"\n",
    "    Manually append existing dataframe by specifying index and results from model.\n",
    "    Returns updated dataframe with new results row.\n",
    "    \"\"\"\n",
    "    \n",
    "    df.loc[idx] = results_list\n",
    "    return df"
   ]
  },
  {
   "cell_type": "markdown",
   "metadata": {
    "hidden": true
   },
   "source": [
    "#### Print train and test metrics"
   ]
  },
  {
   "cell_type": "code",
   "execution_count": 52,
   "metadata": {
    "hidden": true
   },
   "outputs": [],
   "source": [
    "def print_metrics(model, X_train, y_train, X_test, y_test):\n",
    "    \n",
    "    \"\"\"\n",
    "    Print training and test metrics from model.\n",
    "    Longer runtime for more computationally expensive models.\n",
    "    \"\"\"\n",
    "    \n",
    "    print(f'Training loss: {model.evaluate(X_train, y_train)[0]}')\n",
    "    print(f'Training accuracy: {model.evaluate(X_train, y_train)[1]}')\n",
    "    print(f'Test loss: {model.evaluate(X_test, y_test)[0]}')\n",
    "    print(f'Test accuracy: {model.evaluate(X_test, y_test)[1]}')"
   ]
  },
  {
   "cell_type": "markdown",
   "metadata": {
    "hidden": true
   },
   "source": [
    "#### Plot accuracy and loss vs. epochs for training and validation sets."
   ]
  },
  {
   "cell_type": "code",
   "execution_count": 59,
   "metadata": {
    "hidden": true
   },
   "outputs": [],
   "source": [
    "def plot_acc_and_val(history):\n",
    "    \n",
    "    \"\"\"\n",
    "    Given a model's history with accuracy and loss values, returns a plot showing training accuracy, validation\n",
    "    accuracy, training loss, and validation loss.\n",
    "    \"\"\"\n",
    "    \n",
    "    fig = plt.figure(figsize=(8,6))\n",
    "\n",
    "    acc = history.history['acc']\n",
    "    val_acc = history.history['val_acc']\n",
    "    loss = history.history['loss']\n",
    "    val_loss = history.history['val_loss']\n",
    "\n",
    "    epochs = range(len(acc))\n",
    "\n",
    "    plt.plot(epochs, acc, 'bo', label='Training Accuracy')\n",
    "    plt.plot(epochs, val_acc, 'b', label='Validation Accuracy')\n",
    "    plt.title('Training and Validation Accuracy')\n",
    "    plt.plot(epochs, loss, 'ro', label='Training Loss')\n",
    "    plt.plot(epochs, val_loss, 'r', label='Validation Loss')\n",
    "    plt.title('Training and Validation Loss & Accuracy')\n",
    "    plt.legend(loc='best')\n",
    "    plt.show()"
   ]
  },
  {
   "cell_type": "markdown",
   "metadata": {
    "hidden": true
   },
   "source": [
    "#### Plot confusion matrix"
   ]
  },
  {
   "cell_type": "code",
   "execution_count": 111,
   "metadata": {
    "hidden": true
   },
   "outputs": [],
   "source": [
    "def plot_confusion_matrix(y_preds, y_test):\n",
    "    \n",
    "    \"\"\"\n",
    "    Plot heatmap of confusion matrix to show true vs. predicted labels.\n",
    "    \n",
    "    Arguments: predicted y values from model.predict() and true y values\n",
    "    \n",
    "    Y values are reversed from one-hot encoding to integers representing the \n",
    "    index of class labels and used to produce confusion matrix. Confusion matrix \n",
    "    is converted to pandas DataFrame and then plotted as a Seaborn heatmap with \n",
    "    class labels.\n",
    "    \n",
    "    Returns: Confusion matrix heatmap figure\n",
    "    \n",
    "    \"\"\"\n",
    "    y_preds_reversed = [np.argmax(y, axis=None, out=None) for y in y_preds]\n",
    "    y_test_reversed = [np.argmax(y, axis=None, out=None) for y in y_test]\n",
    "    \n",
    "    class_names = ['normal', 'cnv', 'dme', 'drusen']\n",
    "    \n",
    "    cm = confusion_matrix(y_test_reversed, y_preds_reversed)\n",
    "    df_cm = pd.DataFrame(cm, index=class_names, columns=class_names)\n",
    "    \n",
    "    fig = plt.figure(figsize=(8,6))\n",
    "    hm = sns.heatmap(data=df_cm, annot=True, cbar=True, cmap='YlGnBu', linewidths=0.5, fmt='d')\n",
    "    hm.yaxis.set_ticklabels(hm.yaxis.get_ticklabels(), rotation=0)\n",
    "    hm.xaxis.set_ticklabels(hm.xaxis.get_ticklabels(), rotation=45)\n",
    "    plt.ylabel('True Labels')\n",
    "    plt.xlabel('Predicted Labels')\n",
    "    plt.show()"
   ]
  },
  {
   "cell_type": "markdown",
   "metadata": {
    "hidden": true
   },
   "source": [
    "Thanks to [shaypal5](https://gist.github.com/shaypal5) for pretty print confusion matrix function"
   ]
  },
  {
   "cell_type": "markdown",
   "metadata": {},
   "source": [
    "## II. Load & Inspect Original Image Data"
   ]
  },
  {
   "cell_type": "markdown",
   "metadata": {},
   "source": [
    "#### Image Counts"
   ]
  },
  {
   "cell_type": "code",
   "execution_count": 10,
   "metadata": {},
   "outputs": [
    {
     "name": "stdout",
     "output_type": "stream",
     "text": [
      "37216 CNV images\n",
      "11422 DME images\n",
      "8620 Drusen images\n",
      "26348 normal images\n",
      "There are 83606 total images.\n"
     ]
    }
   ],
   "source": [
    "# calculate amount of images\n",
    "cnv_imgs = len(os.listdir('Data/cnv'))\n",
    "dme_imgs = len(os.listdir('Data/dme'))\n",
    "drusen_imgs = len(os.listdir('Data/drusen'))\n",
    "normal_imgs = len(os.listdir('Data/normal'))\n",
    "\n",
    "total_imgs = cnv_imgs + dme_imgs + drusen_imgs + normal_imgs\n",
    "print(f'{cnv_imgs} CNV images')\n",
    "print(f'{dme_imgs} DME images')\n",
    "print(f'{drusen_imgs} Drusen images')\n",
    "print(f'{normal_imgs} normal images')\n",
    "print(f'There are {total_imgs} total images.')"
   ]
  },
  {
   "cell_type": "markdown",
   "metadata": {
    "heading_collapsed": true
   },
   "source": [
    "#### Inspect image with original size"
   ]
  },
  {
   "cell_type": "code",
   "execution_count": 3,
   "metadata": {
    "hidden": true
   },
   "outputs": [
    {
     "data": {
      "image/png": "[encoded data removed]",
      "text/plain": [
       "<Figure size 432x288 with 1 Axes>"
      ]
     },
     "metadata": {
      "needs_background": "light"
     },
     "output_type": "display_data"
    }
   ],
   "source": [
    "test_img = Image.open('Data/cnv/CNV-6294785-1.jpeg')\n",
    "# test_img.show() - this opens image in new window\n",
    "imshow(np.asarray(test_img)); # imshow for inline image"
   ]
  },
  {
   "cell_type": "markdown",
   "metadata": {},
   "source": [
    "#### Images from Each Class"
   ]
  },
  {
   "cell_type": "code",
   "execution_count": 48,
   "metadata": {},
   "outputs": [
    {
     "data": {
      "image/png": "[encoded data removed]",
      "text/plain": [
       "<Figure size 1280x320 with 4 Axes>"
      ]
     },
     "metadata": {},
     "output_type": "display_data"
    }
   ],
   "source": [
    "fig, (ax1, ax2, ax3, ax4) = plt.subplots(1,4, figsize=(16,4))\n",
    "fig.patch.set_facecolor('white')\n",
    "\n",
    "original_cnv = Image.open('Data/cnv/CNV-6294785-1.jpeg')\n",
    "ax1.imshow(np.asarray(original_cnv))\n",
    "ax1.set_title('CNV')\n",
    "ax1.set(xticks=[], yticks=[])\n",
    "\n",
    "original_drusen = Image.open('Data/drusen/DRUSEN-66861-1.jpeg')\n",
    "ax2.imshow(np.asarray(original_drusen))\n",
    "ax2.set_title('Drusen')\n",
    "ax2.set(xticks=[], yticks=[])\n",
    "\n",
    "original_dme = Image.open('Data/dme/DME-30521-46.jpeg')\n",
    "ax3.imshow(np.asarray(original_dme))\n",
    "ax3.set_title('DME')\n",
    "ax3.set(xticks=[], yticks=[])\n",
    "\n",
    "original_normal = Image.open('Data/normal/NORMAL-9771248-3.jpeg')\n",
    "ax4.imshow(np.asarray(original_normal))\n",
    "ax4.set_title('Normal')\n",
    "ax4.set(xticks=[], yticks=[])\n",
    "\n",
    "plt.show();"
   ]
  },
  {
   "cell_type": "markdown",
   "metadata": {},
   "source": [
    "#### Class Distribution"
   ]
  },
  {
   "cell_type": "code",
   "execution_count": 11,
   "metadata": {},
   "outputs": [
    {
     "data": {
      "image/png": "[encoded data removed]",
      "text/plain": [
       "<Figure size 432x288 with 1 Axes>"
      ]
     },
     "metadata": {},
     "output_type": "display_data"
    }
   ],
   "source": [
    "fig = plt.figure()\n",
    "fig.patch.set_facecolor('white')\n",
    "x = np.arange(4)\n",
    "labels = ['Drusen', 'DME', 'Normal', 'CNV']\n",
    "amounts = [drusen_imgs, dme_imgs, normal_imgs, cnv_imgs]\n",
    "\n",
    "plt.bar(x, amounts, align='center', color='#B1A8D2')\n",
    "plt.xticks(x, labels)\n",
    "plt.title('Class Distribution')\n",
    "plt.show()"
   ]
  },
  {
   "cell_type": "markdown",
   "metadata": {
    "heading_collapsed": true
   },
   "source": [
    "## III. Preprocess Data\n",
    "* Resize\n",
    "* Label\n",
    "* Reshape for model input\n",
    "* Split data into features (X) and labels (y)\n",
    "* Normalize pixel values\n",
    "* One-hot encode labels\n",
    "* Train-test-split data into training and (holdout) test data"
   ]
  },
  {
   "cell_type": "markdown",
   "metadata": {
    "heading_collapsed": true,
    "hidden": true
   },
   "source": [
    "### A. Resize and label images"
   ]
  },
  {
   "cell_type": "markdown",
   "metadata": {
    "hidden": true
   },
   "source": [
    "Run cell below to create resized images as list `data`. If `data` already exists, the cell will not run again. Adjust `img_size` as needed."
   ]
  },
  {
   "cell_type": "code",
   "execution_count": 2,
   "metadata": {
    "hidden": true
   },
   "outputs": [
    {
     "name": "stdout",
     "output_type": "stream",
     "text": [
      "Re-loading images\n",
      "Data/normal/.DS_Store\n"
     ]
    }
   ],
   "source": [
    "img_classes = ['normal', 'cnv', 'dme', 'drusen']\n",
    "img_size = 50\n",
    "original_dir = 'Data'\n",
    "\n",
    "# keep myself from re-creating this list if it already exists \n",
    "try:\n",
    "    data = data\n",
    "    print('Data already exists in this dimension')\n",
    "    print(len(data))\n",
    "except NameError: \n",
    "    data = None\n",
    "    print('Re-loading images')\n",
    "    \n",
    "if data is None:\n",
    "    data = []\n",
    "    for img_class in img_classes:\n",
    "\n",
    "        path = os.path.join(original_dir, img_class)\n",
    "        # assign numeric value to class labels\n",
    "        class_num = img_classes.index(img_class)\n",
    "\n",
    "        for img in os.listdir(path):\n",
    "\n",
    "            file = os.path.join(path, img)\n",
    "            # if-else keeps .DS_store from throwing an error\n",
    "            if file.endswith('.jpeg'):\n",
    "                img_array = cv2.imread(os.path.join(path, img), cv2.IMREAD_GRAYSCALE)\n",
    "                # resize images to (40,40)\n",
    "                resize_array = cv2.resize(img_array, (img_size, img_size))\n",
    "                # create new data list of resized images with their class labels\n",
    "                data.append([resize_array, class_num])\n",
    "            else:\n",
    "                print(file)"
   ]
  },
  {
   "cell_type": "code",
   "execution_count": 25,
   "metadata": {
    "hidden": true
   },
   "outputs": [
    {
     "data": {
      "text/plain": [
       "(50, 50)"
      ]
     },
     "execution_count": 25,
     "metadata": {},
     "output_type": "execute_result"
    }
   ],
   "source": [
    "# Confirm image size\n",
    "data[0][0].shape"
   ]
  },
  {
   "cell_type": "markdown",
   "metadata": {
    "heading_collapsed": true,
    "hidden": true
   },
   "source": [
    "### B. Save & Load Images"
   ]
  },
  {
   "cell_type": "markdown",
   "metadata": {
    "hidden": true
   },
   "source": [
    "Save images as `.npy` file within `Data` folder so that they can be re-loaded later. Images will re-load automatically as a numpy array but must be assigned manually for immediate use. "
   ]
  },
  {
   "cell_type": "code",
   "execution_count": 26,
   "metadata": {
    "hidden": true
   },
   "outputs": [],
   "source": [
    "np.save('Data/img_array_50', data)"
   ]
  },
  {
   "cell_type": "code",
   "execution_count": 8,
   "metadata": {
    "hidden": true
   },
   "outputs": [],
   "source": [
    "data = np.array(data)"
   ]
  },
  {
   "cell_type": "code",
   "execution_count": 9,
   "metadata": {
    "hidden": true
   },
   "outputs": [
    {
     "data": {
      "text/plain": [
       "(83605, 2)"
      ]
     },
     "execution_count": 9,
     "metadata": {},
     "output_type": "execute_result"
    }
   ],
   "source": [
    "# Check array dimensions\n",
    "data.shape"
   ]
  },
  {
   "cell_type": "markdown",
   "metadata": {
    "hidden": true
   },
   "source": [
    "Re-load images by assigning variable name and check shape to confirm."
   ]
  },
  {
   "cell_type": "code",
   "execution_count": 2,
   "metadata": {
    "hidden": true
   },
   "outputs": [
    {
     "data": {
      "text/plain": [
       "(83605, 2)"
      ]
     },
     "execution_count": 2,
     "metadata": {},
     "output_type": "execute_result"
    }
   ],
   "source": [
    "data = np.load(\"./Data/img_array_50.npy\")\n",
    "data.shape"
   ]
  },
  {
   "cell_type": "code",
   "execution_count": 3,
   "metadata": {
    "hidden": true
   },
   "outputs": [
    {
     "data": {
      "image/png": "[encoded data removed]",
      "text/plain": [
       "<Figure size 432x288 with 1 Axes>"
      ]
     },
     "metadata": {
      "needs_background": "light"
     },
     "output_type": "display_data"
    }
   ],
   "source": [
    "imshow(data[0][0]);"
   ]
  },
  {
   "cell_type": "code",
   "execution_count": 4,
   "metadata": {
    "hidden": true
   },
   "outputs": [
    {
     "data": {
      "text/plain": [
       "(50, 50)"
      ]
     },
     "execution_count": 4,
     "metadata": {},
     "output_type": "execute_result"
    }
   ],
   "source": [
    "data[0][0].shape"
   ]
  },
  {
   "cell_type": "code",
   "execution_count": 5,
   "metadata": {
    "hidden": true
   },
   "outputs": [
    {
     "data": {
      "text/plain": [
       "(2,)"
      ]
     },
     "execution_count": 5,
     "metadata": {},
     "output_type": "execute_result"
    }
   ],
   "source": [
    "data[0].shape"
   ]
  },
  {
   "cell_type": "markdown",
   "metadata": {
    "hidden": true
   },
   "source": [
    "### C. Split data into features and labels "
   ]
  },
  {
   "cell_type": "code",
   "execution_count": 6,
   "metadata": {
    "hidden": true
   },
   "outputs": [],
   "source": [
    "X = []\n",
    "y = []\n",
    "\n",
    "for feature, label in data:\n",
    "    # normalize image values by max value of 255\n",
    "    X.append(feature/255)\n",
    "    y.append(label)"
   ]
  },
  {
   "cell_type": "code",
   "execution_count": 7,
   "metadata": {
    "hidden": true
   },
   "outputs": [
    {
     "data": {
      "text/plain": [
       "83605"
      ]
     },
     "execution_count": 7,
     "metadata": {},
     "output_type": "execute_result"
    }
   ],
   "source": [
    "len(X)"
   ]
  },
  {
   "cell_type": "code",
   "execution_count": 8,
   "metadata": {
    "hidden": true
   },
   "outputs": [
    {
     "data": {
      "text/plain": [
       "83605"
      ]
     },
     "execution_count": 8,
     "metadata": {},
     "output_type": "execute_result"
    }
   ],
   "source": [
    "len(y)"
   ]
  },
  {
   "cell_type": "code",
   "execution_count": 9,
   "metadata": {
    "hidden": true
   },
   "outputs": [
    {
     "name": "stdout",
     "output_type": "stream",
     "text": [
      "[[1.         1.         1.         ... 0.07058824 0.10196078 0.01176471]\n",
      " [1.         0.63921569 0.65490196 ... 0.12941176 0.13333333 0.01960784]\n",
      " [0.16862745 0.09019608 0.1254902  ... 0.1372549  0.17254902 0.14117647]\n",
      " ...\n",
      " [0.07058824 0.05490196 0.0627451  ... 0.05882353 0.05882353 0.03137255]\n",
      " [0.05098039 0.07843137 0.0745098  ... 0.6        0.60784314 1.        ]\n",
      " [0.0627451  0.02352941 0.05490196 ... 1.         1.         1.        ]]\n"
     ]
    }
   ],
   "source": [
    "# Confirm normalized pixel values\n",
    "print(X[1])"
   ]
  },
  {
   "cell_type": "markdown",
   "metadata": {
    "heading_collapsed": true,
    "hidden": true
   },
   "source": [
    "### D. Reshape Images for Modeling"
   ]
  },
  {
   "cell_type": "code",
   "execution_count": 10,
   "metadata": {
    "hidden": true
   },
   "outputs": [],
   "source": [
    "img_size = 50\n",
    "X = np.array(X).reshape(-1, img_size, img_size, 1)"
   ]
  },
  {
   "cell_type": "code",
   "execution_count": 11,
   "metadata": {
    "hidden": true
   },
   "outputs": [
    {
     "data": {
      "text/plain": [
       "(83605, 50, 50, 1)"
      ]
     },
     "execution_count": 11,
     "metadata": {},
     "output_type": "execute_result"
    }
   ],
   "source": [
    "X.shape"
   ]
  },
  {
   "cell_type": "markdown",
   "metadata": {
    "heading_collapsed": true,
    "hidden": true
   },
   "source": [
    "### E. One-hot encode labels"
   ]
  },
  {
   "cell_type": "code",
   "execution_count": 12,
   "metadata": {
    "hidden": true
   },
   "outputs": [],
   "source": [
    "y = to_categorical(y, num_classes=4)"
   ]
  },
  {
   "cell_type": "code",
   "execution_count": 13,
   "metadata": {
    "hidden": true
   },
   "outputs": [
    {
     "data": {
      "text/plain": [
       "(83605, 4)"
      ]
     },
     "execution_count": 13,
     "metadata": {},
     "output_type": "execute_result"
    }
   ],
   "source": [
    "y.shape"
   ]
  },
  {
   "cell_type": "markdown",
   "metadata": {
    "heading_collapsed": true,
    "hidden": true
   },
   "source": [
    "### F. Split Data into Training and Test sets"
   ]
  },
  {
   "cell_type": "markdown",
   "metadata": {
    "hidden": true
   },
   "source": [
    "Test / holdout set was decreased for later models to allow for a larger training set and to reduce overfitting."
   ]
  },
  {
   "cell_type": "code",
   "execution_count": 14,
   "metadata": {
    "hidden": true
   },
   "outputs": [],
   "source": [
    "X_train, X_test, y_train, y_test = train_test_split(X, y, random_state=19, test_size=0.1)"
   ]
  },
  {
   "cell_type": "code",
   "execution_count": 15,
   "metadata": {
    "hidden": true
   },
   "outputs": [
    {
     "name": "stdout",
     "output_type": "stream",
     "text": [
      "X_train shape: (75244, 50, 50, 1)\n",
      "y_train shape: (75244, 4)\n",
      "X_test shape: (8361, 50, 50, 1)\n",
      "y_test shape: (8361, 4)\n"
     ]
    }
   ],
   "source": [
    "print(f'X_train shape: {X_train.shape}')\n",
    "print(f'y_train shape: {y_train.shape}')\n",
    "print(f'X_test shape: {X_test.shape}')\n",
    "print(f'y_test shape: {y_test.shape}')"
   ]
  },
  {
   "cell_type": "markdown",
   "metadata": {},
   "source": [
    "## IV. Convolutional Neural Networks"
   ]
  },
  {
   "cell_type": "markdown",
   "metadata": {
    "heading_collapsed": true
   },
   "source": [
    "### Model 1 \n",
    "* 3 convolutional layers\n",
    "* 1 dense layer (not including output)"
   ]
  },
  {
   "cell_type": "code",
   "execution_count": 35,
   "metadata": {
    "hidden": true
   },
   "outputs": [],
   "source": [
    "model = Sequential()\n",
    "model.add(Conv2D(32, (3,3), input_shape=X.shape[1:], activation='relu'))\n",
    "model.add(MaxPooling2D(2,2))\n",
    "\n",
    "model.add(Conv2D(32, (4,4), activation='relu'))\n",
    "model.add(MaxPooling2D(2,2))\n",
    "\n",
    "model.add(Conv2D(64, (3,3), activation='relu'))\n",
    "model.add(MaxPooling2D(2,2))\n",
    "\n",
    "# Flatten() because Dense layers only like 1D data\n",
    "model.add(Flatten())\n",
    "model.add(Dense(64, activation='relu'))\n",
    "model.add(Dense(4, activation='softmax'))"
   ]
  },
  {
   "cell_type": "code",
   "execution_count": 36,
   "metadata": {
    "hidden": true
   },
   "outputs": [],
   "source": [
    "model.compile(optimizer='adam', loss='categorical_crossentropy', metrics=['acc'])"
   ]
  },
  {
   "cell_type": "markdown",
   "metadata": {
    "heading_collapsed": true,
    "hidden": true
   },
   "source": [
    "#### Model Summary"
   ]
  },
  {
   "cell_type": "code",
   "execution_count": 40,
   "metadata": {
    "hidden": true
   },
   "outputs": [
    {
     "name": "stdout",
     "output_type": "stream",
     "text": [
      "_________________________________________________________________\n",
      "Layer (type)                 Output Shape              Param #   \n",
      "=================================================================\n",
      "conv2d_7 (Conv2D)            (None, 38, 38, 32)        320       \n",
      "_________________________________________________________________\n",
      "max_pooling2d_7 (MaxPooling2 (None, 19, 19, 32)        0         \n",
      "_________________________________________________________________\n",
      "conv2d_8 (Conv2D)            (None, 16, 16, 32)        16416     \n",
      "_________________________________________________________________\n",
      "max_pooling2d_8 (MaxPooling2 (None, 8, 8, 32)          0         \n",
      "_________________________________________________________________\n",
      "conv2d_9 (Conv2D)            (None, 6, 6, 64)          18496     \n",
      "_________________________________________________________________\n",
      "max_pooling2d_9 (MaxPooling2 (None, 3, 3, 64)          0         \n",
      "_________________________________________________________________\n",
      "flatten_3 (Flatten)          (None, 576)               0         \n",
      "_________________________________________________________________\n",
      "dense_5 (Dense)              (None, 64)                36928     \n",
      "_________________________________________________________________\n",
      "dense_6 (Dense)              (None, 4)                 260       \n",
      "=================================================================\n",
      "Total params: 72,420\n",
      "Trainable params: 72,420\n",
      "Non-trainable params: 0\n",
      "_________________________________________________________________\n"
     ]
    }
   ],
   "source": [
    "model.summary()"
   ]
  },
  {
   "cell_type": "code",
   "execution_count": 37,
   "metadata": {
    "hidden": true
   },
   "outputs": [
    {
     "name": "stdout",
     "output_type": "stream",
     "text": [
      "Train on 53507 samples, validate on 13377 samples\n",
      "Epoch 1/30\n",
      "53507/53507 [==============================] - 58s 1ms/step - loss: 0.7637 - acc: 0.7091 - val_loss: 0.5662 - val_acc: 0.7889\n",
      "Epoch 2/30\n",
      "53507/53507 [==============================] - 57s 1ms/step - loss: 0.5258 - acc: 0.8058 - val_loss: 0.4756 - val_acc: 0.8238\n",
      "Epoch 3/30\n",
      "53507/53507 [==============================] - 54s 1ms/step - loss: 0.4472 - acc: 0.8366 - val_loss: 0.4626 - val_acc: 0.8343\n",
      "Epoch 4/30\n",
      "53507/53507 [==============================] - 56s 1ms/step - loss: 0.3993 - acc: 0.8549 - val_loss: 0.4218 - val_acc: 0.8440\n",
      "Epoch 5/30\n",
      "53507/53507 [==============================] - 55s 1ms/step - loss: 0.3654 - acc: 0.8672 - val_loss: 0.3893 - val_acc: 0.8562\n",
      "Epoch 6/30\n",
      "53507/53507 [==============================] - 55s 1ms/step - loss: 0.3366 - acc: 0.8783 - val_loss: 0.3836 - val_acc: 0.8626\n",
      "Epoch 7/30\n",
      "53507/53507 [==============================] - 56s 1ms/step - loss: 0.3126 - acc: 0.8862 - val_loss: 0.3889 - val_acc: 0.8617\n",
      "Epoch 8/30\n",
      "53507/53507 [==============================] - 56s 1ms/step - loss: 0.2922 - acc: 0.8949 - val_loss: 0.3711 - val_acc: 0.8701\n",
      "Epoch 9/30\n",
      "53507/53507 [==============================] - 57s 1ms/step - loss: 0.2720 - acc: 0.9019 - val_loss: 0.3913 - val_acc: 0.8647\n",
      "Epoch 10/30\n",
      "53507/53507 [==============================] - 58s 1ms/step - loss: 0.2559 - acc: 0.9071 - val_loss: 0.3922 - val_acc: 0.8615\n",
      "Epoch 11/30\n",
      "53507/53507 [==============================] - 60s 1ms/step - loss: 0.2394 - acc: 0.9127 - val_loss: 0.4227 - val_acc: 0.8571\n",
      "Epoch 12/30\n",
      "53507/53507 [==============================] - 60s 1ms/step - loss: 0.2253 - acc: 0.9186 - val_loss: 0.3781 - val_acc: 0.8714\n",
      "Epoch 13/30\n",
      "53507/53507 [==============================] - 60s 1ms/step - loss: 0.2090 - acc: 0.9241 - val_loss: 0.4029 - val_acc: 0.8729\n",
      "Epoch 14/30\n",
      "53507/53507 [==============================] - 59s 1ms/step - loss: 0.1987 - acc: 0.9289 - val_loss: 0.4085 - val_acc: 0.8727\n",
      "Epoch 15/30\n",
      "53507/53507 [==============================] - 60s 1ms/step - loss: 0.1864 - acc: 0.9317 - val_loss: 0.4121 - val_acc: 0.8698\n",
      "Epoch 16/30\n",
      "53507/53507 [==============================] - 59s 1ms/step - loss: 0.1726 - acc: 0.9380 - val_loss: 0.4313 - val_acc: 0.8719\n",
      "Epoch 17/30\n",
      "53507/53507 [==============================] - 59s 1ms/step - loss: 0.1618 - acc: 0.9411 - val_loss: 0.4507 - val_acc: 0.8717\n",
      "Epoch 18/30\n",
      "53507/53507 [==============================] - 54s 1ms/step - loss: 0.1514 - acc: 0.9448 - val_loss: 0.4636 - val_acc: 0.8716\n",
      "Epoch 19/30\n",
      "53507/53507 [==============================] - 55s 1ms/step - loss: 0.1414 - acc: 0.9467 - val_loss: 0.4980 - val_acc: 0.8584\n",
      "Epoch 20/30\n",
      "53507/53507 [==============================] - 56s 1ms/step - loss: 0.1318 - acc: 0.9512 - val_loss: 0.5077 - val_acc: 0.8703\n",
      "Epoch 21/30\n",
      "53507/53507 [==============================] - 57s 1ms/step - loss: 0.1260 - acc: 0.9535 - val_loss: 0.5493 - val_acc: 0.8613\n",
      "Epoch 22/30\n",
      "53507/53507 [==============================] - 57s 1ms/step - loss: 0.1208 - acc: 0.9549 - val_loss: 0.5042 - val_acc: 0.8684\n",
      "Epoch 23/30\n",
      "53507/53507 [==============================] - 58s 1ms/step - loss: 0.1113 - acc: 0.9590 - val_loss: 0.5367 - val_acc: 0.8701\n",
      "Epoch 24/30\n",
      "53507/53507 [==============================] - 58s 1ms/step - loss: 0.1082 - acc: 0.9597 - val_loss: 0.5955 - val_acc: 0.8533\n",
      "Epoch 25/30\n",
      "53507/53507 [==============================] - 58s 1ms/step - loss: 0.1044 - acc: 0.9613 - val_loss: 0.5774 - val_acc: 0.8681\n",
      "Epoch 26/30\n",
      "53507/53507 [==============================] - 57s 1ms/step - loss: 0.0956 - acc: 0.9647 - val_loss: 0.6105 - val_acc: 0.8646\n",
      "Epoch 27/30\n",
      "53507/53507 [==============================] - 57s 1ms/step - loss: 0.0914 - acc: 0.9670 - val_loss: 0.6144 - val_acc: 0.8615\n",
      "Epoch 28/30\n",
      "53507/53507 [==============================] - 50s 938us/step - loss: 0.0866 - acc: 0.9685 - val_loss: 0.6659 - val_acc: 0.8592\n",
      "Epoch 29/30\n",
      "53507/53507 [==============================] - 51s 951us/step - loss: 0.0833 - acc: 0.9689 - val_loss: 0.6429 - val_acc: 0.8613\n",
      "Epoch 30/30\n",
      "53507/53507 [==============================] - 53s 983us/step - loss: 0.0811 - acc: 0.9700 - val_loss: 0.7202 - val_acc: 0.8557\n",
      "Time elapsed: 0:28:19.688013\n"
     ]
    }
   ],
   "source": [
    "start = datetime.datetime.now()\n",
    "\n",
    "# batch_size default = 32\n",
    "history = model.fit(X_train, y_train, epochs=30, batch_size=32, validation_split=0.2)\n",
    "elapsed = datetime.datetime.now() - start\n",
    "print(f'Time elapsed: {elapsed}')"
   ]
  },
  {
   "cell_type": "markdown",
   "metadata": {
    "heading_collapsed": true,
    "hidden": true
   },
   "source": [
    "#### Model Details & Results\n",
    "Pandas DataFrame to keep track of model details, results, and training times - to be appended with each new model."
   ]
  },
  {
   "cell_type": "code",
   "execution_count": 23,
   "metadata": {
    "hidden": true
   },
   "outputs": [
    {
     "data": {
      "text/html": [
       "<div>\n",
       "<style scoped>\n",
       "    .dataframe tbody tr th:only-of-type {\n",
       "        vertical-align: middle;\n",
       "    }\n",
       "\n",
       "    .dataframe tbody tr th {\n",
       "        vertical-align: top;\n",
       "    }\n",
       "\n",
       "    .dataframe thead th {\n",
       "        text-align: right;\n",
       "    }\n",
       "</style>\n",
       "<table border=\"1\" class=\"dataframe\">\n",
       "  <thead>\n",
       "    <tr style=\"text-align: right;\">\n",
       "      <th></th>\n",
       "      <th>img_size</th>\n",
       "      <th>num_conv_layers</th>\n",
       "      <th>num_dense_layers</th>\n",
       "      <th>extras</th>\n",
       "      <th>epochs</th>\n",
       "      <th>acc</th>\n",
       "      <th>loss</th>\n",
       "      <th>val_acc</th>\n",
       "      <th>val_loss</th>\n",
       "      <th>time</th>\n",
       "    </tr>\n",
       "  </thead>\n",
       "  <tbody>\n",
       "  </tbody>\n",
       "</table>\n",
       "</div>"
      ],
      "text/plain": [
       "Empty DataFrame\n",
       "Columns: [img_size, num_conv_layers, num_dense_layers, extras, epochs, acc, loss, val_acc, val_loss, time]\n",
       "Index: []"
      ]
     },
     "execution_count": 23,
     "metadata": {},
     "output_type": "execute_result"
    }
   ],
   "source": [
    "columns = ['img_size', 'num_conv_layers', 'num_dense_layers', 'extras', 'epochs', 'acc', 'loss', 'val_acc', 'val_loss', 'time']\n",
    "df = pd.DataFrame(columns=columns)\n",
    "df"
   ]
  },
  {
   "cell_type": "code",
   "execution_count": 24,
   "metadata": {
    "hidden": true
   },
   "outputs": [
    {
     "data": {
      "text/html": [
       "<div>\n",
       "<style scoped>\n",
       "    .dataframe tbody tr th:only-of-type {\n",
       "        vertical-align: middle;\n",
       "    }\n",
       "\n",
       "    .dataframe tbody tr th {\n",
       "        vertical-align: top;\n",
       "    }\n",
       "\n",
       "    .dataframe thead th {\n",
       "        text-align: right;\n",
       "    }\n",
       "</style>\n",
       "<table border=\"1\" class=\"dataframe\">\n",
       "  <thead>\n",
       "    <tr style=\"text-align: right;\">\n",
       "      <th></th>\n",
       "      <th>img_size</th>\n",
       "      <th>num_conv_layers</th>\n",
       "      <th>num_dense_layers</th>\n",
       "      <th>extras</th>\n",
       "      <th>epochs</th>\n",
       "      <th>acc</th>\n",
       "      <th>loss</th>\n",
       "      <th>val_acc</th>\n",
       "      <th>val_loss</th>\n",
       "      <th>time</th>\n",
       "    </tr>\n",
       "  </thead>\n",
       "  <tbody>\n",
       "    <tr>\n",
       "      <th>0</th>\n",
       "      <td>40</td>\n",
       "      <td>3</td>\n",
       "      <td>1</td>\n",
       "      <td>None</td>\n",
       "      <td>30</td>\n",
       "      <td>0.97</td>\n",
       "      <td>0.08</td>\n",
       "      <td>0.86</td>\n",
       "      <td>0.72</td>\n",
       "      <td>28</td>\n",
       "    </tr>\n",
       "  </tbody>\n",
       "</table>\n",
       "</div>"
      ],
      "text/plain": [
       "  img_size num_conv_layers num_dense_layers extras epochs   acc  loss  \\\n",
       "0       40               3                1   None     30  0.97  0.08   \n",
       "\n",
       "   val_acc  val_loss time  \n",
       "0     0.86      0.72   28  "
      ]
     },
     "execution_count": 24,
     "metadata": {},
     "output_type": "execute_result"
    }
   ],
   "source": [
    "model_1_results = [40, 3, 1, 'None', 30, 0.97, 0.08, 0.86, 0.72, 28]\n",
    "append_df(df, 0, model_1_results)"
   ]
  },
  {
   "cell_type": "markdown",
   "metadata": {
    "hidden": true
   },
   "source": [
    "#### Train & Test Metrics"
   ]
  },
  {
   "cell_type": "code",
   "execution_count": 42,
   "metadata": {
    "hidden": true
   },
   "outputs": [
    {
     "name": "stdout",
     "output_type": "stream",
     "text": [
      "66884/66884 [==============================] - 17s 253us/step\n",
      "Training loss: 0.21424882945278623\n",
      "66884/66884 [==============================] - 17s 253us/step\n",
      "Training accuracy: 0.9441121942467556\n",
      "16721/16721 [==============================] - 4s 259us/step\n",
      "Test loss: 0.7160191144626018\n",
      "16721/16721 [==============================] - 4s 259us/step\n",
      "Test accuracy: 0.8564679146019738\n"
     ]
    }
   ],
   "source": [
    "print_metrics(model, X_train, y_train, X_test, y_test)"
   ]
  },
  {
   "cell_type": "markdown",
   "metadata": {
    "hidden": true
   },
   "source": [
    "#### Accuracy & Loss vs. Epochs"
   ]
  },
  {
   "cell_type": "code",
   "execution_count": 52,
   "metadata": {
    "hidden": true
   },
   "outputs": [
    {
     "data": {
      "image/png": "[encoded data removed]",
      "text/plain": [
       "<Figure size 576x432 with 1 Axes>"
      ]
     },
     "metadata": {
      "needs_background": "light"
     },
     "output_type": "display_data"
    }
   ],
   "source": [
    "plot_acc_and_val(history)"
   ]
  },
  {
   "cell_type": "markdown",
   "metadata": {
    "hidden": true
   },
   "source": [
    "#### Model 1 Observations"
   ]
  },
  {
   "cell_type": "markdown",
   "metadata": {
    "hidden": true
   },
   "source": [
    "The first model performed well on the training data at 97% accuracy but experienced overfitting with a validation and testing accuracy of 86%. Training for 30 epochs with no regularization parameters or callbacks most likely led to overfitting. The above plot also clearly shows that the model kept training as the validation loss increased. Will try using kernel regularization and early stopping on the next model to find a better fit. A kernel size of (4,4) is probably too large for early, untuned models."
   ]
  },
  {
   "cell_type": "code",
   "execution_count": 53,
   "metadata": {
    "hidden": true
   },
   "outputs": [],
   "source": [
    "# model.save('Models/first_model_no_tuning.h5')"
   ]
  },
  {
   "cell_type": "markdown",
   "metadata": {
    "hidden": true
   },
   "source": [
    "#### Initiate Callbacks\n",
    "* Reduce learning rate when the specified threshold for validation loss is not achieved\n",
    "* Stop training when there has been no decrease in validation loss for 7 epochs"
   ]
  },
  {
   "cell_type": "code",
   "execution_count": 45,
   "metadata": {
    "hidden": true
   },
   "outputs": [],
   "source": [
    "reduce_lr = ReduceLROnPlateau(monitor='val_loss', \n",
    "                              factor=0.2,\n",
    "                              patience=5, \n",
    "                              min_lr=0.001)\n",
    "\n",
    "early_stoppage = EarlyStopping(monitor='val_loss', \n",
    "                               min_delta=0, \n",
    "                               patience=7, \n",
    "                               verbose=1, \n",
    "                               mode='auto', \n",
    "                               baseline=None, \n",
    "                               restore_best_weights=False)"
   ]
  },
  {
   "cell_type": "markdown",
   "metadata": {
    "heading_collapsed": true
   },
   "source": [
    "### Model 2 \n",
    "* Add zero padding\n",
    "* Use L2 Regularization to reduce overfitting\n",
    "* Apply callbacks"
   ]
  },
  {
   "cell_type": "code",
   "execution_count": 47,
   "metadata": {
    "hidden": true
   },
   "outputs": [],
   "source": [
    "model_2 = Sequential()\n",
    "model_2.add(Conv2D(64, (2,2), \n",
    "                 input_shape=X.shape[1:], \n",
    "                 activation='relu', \n",
    "                 padding='same', \n",
    "                 kernel_regularizer=regularizers.l2(0.01)))\n",
    "model_2.add(MaxPooling2D(2,2))\n",
    "\n",
    "model_2.add(Conv2D(32, (2,2), activation='relu', padding='same', kernel_regularizer=regularizers.l2(0.01)))\n",
    "model_2.add(MaxPooling2D(2,2))\n",
    "\n",
    "model_2.add(Conv2D(64, (3,3), activation='relu'))\n",
    "model_2.add(MaxPooling2D(2,2))\n",
    "\n",
    "model_2.add(Flatten())\n",
    "model_2.add(Dense(64, activation='relu'))\n",
    "model_2.add(Dense(32, activation='relu'))\n",
    "model_2.add(Dense(4, activation='softmax'))"
   ]
  },
  {
   "cell_type": "code",
   "execution_count": 48,
   "metadata": {
    "hidden": true
   },
   "outputs": [],
   "source": [
    "model_2.compile(optimizer='adam', loss='categorical_crossentropy', metrics=['acc'])"
   ]
  },
  {
   "cell_type": "code",
   "execution_count": 51,
   "metadata": {
    "hidden": true
   },
   "outputs": [
    {
     "name": "stdout",
     "output_type": "stream",
     "text": [
      "Train on 53507 samples, validate on 13377 samples\n",
      "Epoch 1/20\n",
      "53507/53507 [==============================] - 89s 2ms/step - loss: 0.9482 - acc: 0.6472 - val_loss: 0.8791 - val_acc: 0.6803\n",
      "Epoch 2/20\n",
      "53507/53507 [==============================] - 85s 2ms/step - loss: 0.7181 - acc: 0.7451 - val_loss: 0.6764 - val_acc: 0.7591\n",
      "Epoch 3/20\n",
      "53507/53507 [==============================] - 82s 2ms/step - loss: 0.6568 - acc: 0.7669 - val_loss: 0.6433 - val_acc: 0.7725\n",
      "Epoch 4/20\n",
      "53507/53507 [==============================] - 86s 2ms/step - loss: 0.6267 - acc: 0.7800 - val_loss: 0.6887 - val_acc: 0.7562\n",
      "Epoch 5/20\n",
      "53507/53507 [==============================] - 86s 2ms/step - loss: 0.5996 - acc: 0.7885 - val_loss: 0.6019 - val_acc: 0.7846\n",
      "Epoch 6/20\n",
      "53507/53507 [==============================] - 85s 2ms/step - loss: 0.5769 - acc: 0.7970 - val_loss: 0.5798 - val_acc: 0.7986\n",
      "Epoch 7/20\n",
      "53507/53507 [==============================] - 84s 2ms/step - loss: 0.5491 - acc: 0.8083 - val_loss: 0.5628 - val_acc: 0.8020\n",
      "Epoch 8/20\n",
      "53507/53507 [==============================] - 83s 2ms/step - loss: 0.5335 - acc: 0.8142 - val_loss: 0.5398 - val_acc: 0.8182\n",
      "Epoch 9/20\n",
      "53507/53507 [==============================] - 81s 2ms/step - loss: 0.5138 - acc: 0.8230 - val_loss: 0.5461 - val_acc: 0.8089\n",
      "Epoch 10/20\n",
      "53507/53507 [==============================] - 77s 1ms/step - loss: 0.4930 - acc: 0.8323 - val_loss: 0.5438 - val_acc: 0.8121\n",
      "Epoch 11/20\n",
      "53507/53507 [==============================] - 74s 1ms/step - loss: 0.4834 - acc: 0.8348 - val_loss: 0.7180 - val_acc: 0.7481\n",
      "Epoch 12/20\n",
      "53507/53507 [==============================] - 73s 1ms/step - loss: 0.4732 - acc: 0.8390 - val_loss: 0.5586 - val_acc: 0.8006\n",
      "Epoch 13/20\n",
      "53507/53507 [==============================] - 73s 1ms/step - loss: 0.4591 - acc: 0.8449 - val_loss: 0.5161 - val_acc: 0.8258\n",
      "Epoch 14/20\n",
      "53507/53507 [==============================] - 73s 1ms/step - loss: 0.4488 - acc: 0.8492 - val_loss: 0.5331 - val_acc: 0.8256\n",
      "Epoch 15/20\n",
      "53507/53507 [==============================] - 73s 1ms/step - loss: 0.4369 - acc: 0.8533 - val_loss: 0.5189 - val_acc: 0.8290\n",
      "Epoch 16/20\n",
      "53507/53507 [==============================] - 74s 1ms/step - loss: 0.4292 - acc: 0.8564 - val_loss: 0.5900 - val_acc: 0.7958\n",
      "Epoch 17/20\n",
      "53507/53507 [==============================] - 85s 2ms/step - loss: 0.4162 - acc: 0.8608 - val_loss: 0.4965 - val_acc: 0.8320\n",
      "Epoch 18/20\n",
      "53507/53507 [==============================] - 80s 1ms/step - loss: 0.4097 - acc: 0.8631 - val_loss: 0.5249 - val_acc: 0.8182\n",
      "Epoch 19/20\n",
      "53507/53507 [==============================] - 80s 2ms/step - loss: 0.4010 - acc: 0.8670 - val_loss: 0.7551 - val_acc: 0.7464\n",
      "Epoch 20/20\n",
      "53507/53507 [==============================] - 81s 2ms/step - loss: 0.3947 - acc: 0.8691 - val_loss: 0.4878 - val_acc: 0.8415\n",
      "Time elapsed: 0:26:43.347619\n"
     ]
    }
   ],
   "source": [
    "start = datetime.datetime.now()\n",
    "\n",
    "history = model_2.fit(X_train, y_train, \n",
    "                    callbacks=[reduce_lr, early_stoppage], \n",
    "                    epochs=20, \n",
    "                    batch_size=32,\n",
    "                    validation_split=0.2)\n",
    "\n",
    "elapsed = datetime.datetime.now() - start\n",
    "print(f'Time elapsed: {elapsed}')"
   ]
  },
  {
   "cell_type": "markdown",
   "metadata": {
    "hidden": true
   },
   "source": [
    "#### Comparison to Previous Models"
   ]
  },
  {
   "cell_type": "code",
   "execution_count": 28,
   "metadata": {
    "hidden": true
   },
   "outputs": [
    {
     "data": {
      "text/html": [
       "<div>\n",
       "<style scoped>\n",
       "    .dataframe tbody tr th:only-of-type {\n",
       "        vertical-align: middle;\n",
       "    }\n",
       "\n",
       "    .dataframe tbody tr th {\n",
       "        vertical-align: top;\n",
       "    }\n",
       "\n",
       "    .dataframe thead th {\n",
       "        text-align: right;\n",
       "    }\n",
       "</style>\n",
       "<table border=\"1\" class=\"dataframe\">\n",
       "  <thead>\n",
       "    <tr style=\"text-align: right;\">\n",
       "      <th></th>\n",
       "      <th>img_size</th>\n",
       "      <th>num_conv_layers</th>\n",
       "      <th>num_dense_layers</th>\n",
       "      <th>extras</th>\n",
       "      <th>epochs</th>\n",
       "      <th>acc</th>\n",
       "      <th>loss</th>\n",
       "      <th>val_acc</th>\n",
       "      <th>val_loss</th>\n",
       "      <th>time</th>\n",
       "    </tr>\n",
       "  </thead>\n",
       "  <tbody>\n",
       "    <tr>\n",
       "      <th>0</th>\n",
       "      <td>40</td>\n",
       "      <td>3</td>\n",
       "      <td>1</td>\n",
       "      <td>None</td>\n",
       "      <td>30</td>\n",
       "      <td>0.97</td>\n",
       "      <td>0.08</td>\n",
       "      <td>0.86</td>\n",
       "      <td>0.72</td>\n",
       "      <td>28</td>\n",
       "    </tr>\n",
       "    <tr>\n",
       "      <th>1</th>\n",
       "      <td>40</td>\n",
       "      <td>3</td>\n",
       "      <td>2</td>\n",
       "      <td>callbacks</td>\n",
       "      <td>20</td>\n",
       "      <td>0.87</td>\n",
       "      <td>0.40</td>\n",
       "      <td>0.84</td>\n",
       "      <td>0.49</td>\n",
       "      <td>26</td>\n",
       "    </tr>\n",
       "  </tbody>\n",
       "</table>\n",
       "</div>"
      ],
      "text/plain": [
       "  img_size num_conv_layers num_dense_layers     extras epochs   acc  loss  \\\n",
       "0       40               3                1       None     30  0.97  0.08   \n",
       "1       40               3                2  callbacks     20  0.87  0.40   \n",
       "\n",
       "   val_acc  val_loss time  \n",
       "0     0.86      0.72   28  \n",
       "1     0.84      0.49   26  "
      ]
     },
     "execution_count": 28,
     "metadata": {},
     "output_type": "execute_result"
    }
   ],
   "source": [
    "model_2_results = [40, 3, 2, 'callbacks', 20, 0.87, 0.40, 0.84, 0.49, 26]\n",
    "append_df(df, 1, model_2_results)"
   ]
  },
  {
   "cell_type": "markdown",
   "metadata": {
    "hidden": true
   },
   "source": [
    "#### Accuracy & Loss vs. Epochs"
   ]
  },
  {
   "cell_type": "code",
   "execution_count": 52,
   "metadata": {
    "hidden": true
   },
   "outputs": [
    {
     "data": {
      "image/png": "[encoded data removed]",
      "text/plain": [
       "<Figure size 576x432 with 1 Axes>"
      ]
     },
     "metadata": {
      "needs_background": "light"
     },
     "output_type": "display_data"
    }
   ],
   "source": [
    "plot_acc_and_val(history)"
   ]
  },
  {
   "cell_type": "markdown",
   "metadata": {
    "hidden": true
   },
   "source": [
    "Plot indicates that more epochs could improve performance as long as measures are taken to combat overfitting."
   ]
  },
  {
   "cell_type": "markdown",
   "metadata": {
    "hidden": true
   },
   "source": [
    "#### Test Metrics"
   ]
  },
  {
   "cell_type": "code",
   "execution_count": 57,
   "metadata": {
    "hidden": true
   },
   "outputs": [
    {
     "name": "stdout",
     "output_type": "stream",
     "text": [
      "16721/16721 [==============================] - 6s 362us/step\n"
     ]
    },
    {
     "data": {
      "text/plain": [
       "[0.49538368569678876, 0.837928353570935]"
      ]
     },
     "execution_count": 57,
     "metadata": {},
     "output_type": "execute_result"
    }
   ],
   "source": [
    "model_2.evaluate(X_test, y_test)"
   ]
  },
  {
   "cell_type": "markdown",
   "metadata": {
    "hidden": true
   },
   "source": [
    "#### Model 2 Observations\n",
    "Model 2 looks better with goodness of fit - the training accuracy decreased, and the training loss increased, but these values were much closer to the validation and test metrics. Model 3 can focus on increased accuracy overall with the parameters that helped reduce overfitting in Model 2."
   ]
  },
  {
   "cell_type": "code",
   "execution_count": 53,
   "metadata": {
    "hidden": true
   },
   "outputs": [],
   "source": [
    "model_2.save('Models/model_2_with_tunings.h5')"
   ]
  },
  {
   "cell_type": "markdown",
   "metadata": {
    "heading_collapsed": true
   },
   "source": [
    "### Model 3\n",
    "* Increase epochs\n",
    "* Add a convolutional layer"
   ]
  },
  {
   "cell_type": "code",
   "execution_count": 54,
   "metadata": {
    "hidden": true
   },
   "outputs": [],
   "source": [
    "model_3 = Sequential()\n",
    "model_3.add(Conv2D(64, (2,2), \n",
    "                 input_shape=X.shape[1:], \n",
    "                 activation='relu', \n",
    "                 padding='same', \n",
    "                 kernel_regularizer=regularizers.l2(0.01)))\n",
    "model_3.add(MaxPooling2D(2,2))\n",
    "\n",
    "model_3.add(Conv2D(32, (2,2), activation='relu', padding='same', kernel_regularizer=regularizers.l2(0.01)))\n",
    "model_3.add(MaxPooling2D(2,2))\n",
    "\n",
    "model_3.add(Conv2D(64, (3,3), activation='relu'))\n",
    "model_3.add(MaxPooling2D(2,2))\n",
    "\n",
    "model_3.add(Conv2D(32, (2,2), activation='relu', padding='same'))\n",
    "model_3.add(MaxPooling2D(2,2))\n",
    "\n",
    "model_3.add(Flatten())\n",
    "model_3.add(Dense(64, activation='relu'))\n",
    "model_3.add(Dense(32, activation='relu'))\n",
    "model_3.add(Dense(4, activation='softmax'))"
   ]
  },
  {
   "cell_type": "code",
   "execution_count": 55,
   "metadata": {
    "hidden": true
   },
   "outputs": [],
   "source": [
    "model_3.compile(optimizer='adam', loss='categorical_crossentropy', metrics=['acc'])"
   ]
  },
  {
   "cell_type": "code",
   "execution_count": 58,
   "metadata": {
    "hidden": true
   },
   "outputs": [
    {
     "name": "stdout",
     "output_type": "stream",
     "text": [
      "Train on 53507 samples, validate on 13377 samples\n",
      "Epoch 1/30\n",
      "53507/53507 [==============================] - 74s 1ms/step - loss: 0.9905 - acc: 0.6196 - val_loss: 0.8608 - val_acc: 0.6910\n",
      "Epoch 2/30\n",
      "53507/53507 [==============================] - 71s 1ms/step - loss: 0.7326 - acc: 0.7385 - val_loss: 0.6678 - val_acc: 0.7627\n",
      "Epoch 3/30\n",
      "53507/53507 [==============================] - 71s 1ms/step - loss: 0.6667 - acc: 0.7631 - val_loss: 0.6428 - val_acc: 0.7694\n",
      "Epoch 4/30\n",
      "53507/53507 [==============================] - 70s 1ms/step - loss: 0.6340 - acc: 0.7755 - val_loss: 0.6019 - val_acc: 0.7846\n",
      "Epoch 5/30\n",
      "53507/53507 [==============================] - 71s 1ms/step - loss: 0.6029 - acc: 0.7872 - val_loss: 0.5898 - val_acc: 0.7920\n",
      "Epoch 6/30\n",
      "53507/53507 [==============================] - 71s 1ms/step - loss: 0.5831 - acc: 0.7964 - val_loss: 0.5733 - val_acc: 0.7969\n",
      "Epoch 7/30\n",
      "53507/53507 [==============================] - 73s 1ms/step - loss: 0.5669 - acc: 0.8003 - val_loss: 0.5719 - val_acc: 0.7997\n",
      "Epoch 8/30\n",
      "53507/53507 [==============================] - 75s 1ms/step - loss: 0.5491 - acc: 0.8090 - val_loss: 0.5597 - val_acc: 0.8056\n",
      "Epoch 9/30\n",
      "53507/53507 [==============================] - 75s 1ms/step - loss: 0.5304 - acc: 0.8169 - val_loss: 0.5354 - val_acc: 0.8117\n",
      "Epoch 10/30\n",
      "53507/53507 [==============================] - 75s 1ms/step - loss: 0.5174 - acc: 0.8205 - val_loss: 0.6055 - val_acc: 0.7899\n",
      "Epoch 11/30\n",
      "53507/53507 [==============================] - 73s 1ms/step - loss: 0.5106 - acc: 0.8239 - val_loss: 0.5991 - val_acc: 0.7947\n",
      "Epoch 12/30\n",
      "53507/53507 [==============================] - 76s 1ms/step - loss: 0.4938 - acc: 0.8311 - val_loss: 0.5103 - val_acc: 0.8254\n",
      "Epoch 13/30\n",
      "53507/53507 [==============================] - 75s 1ms/step - loss: 0.4844 - acc: 0.8353 - val_loss: 0.5011 - val_acc: 0.8274\n",
      "Epoch 14/30\n",
      "53507/53507 [==============================] - 76s 1ms/step - loss: 0.4752 - acc: 0.8376 - val_loss: 0.5063 - val_acc: 0.8263\n",
      "Epoch 15/30\n",
      "53507/53507 [==============================] - 75s 1ms/step - loss: 0.4685 - acc: 0.8410 - val_loss: 0.5296 - val_acc: 0.8226\n",
      "Epoch 16/30\n",
      "53507/53507 [==============================] - 75s 1ms/step - loss: 0.4588 - acc: 0.8450 - val_loss: 0.5110 - val_acc: 0.8254\n",
      "Epoch 17/30\n",
      "53507/53507 [==============================] - 76s 1ms/step - loss: 0.4552 - acc: 0.8466 - val_loss: 0.6379 - val_acc: 0.7936\n",
      "Epoch 18/30\n",
      "53507/53507 [==============================] - 77s 1ms/step - loss: 0.4500 - acc: 0.8487 - val_loss: 0.4899 - val_acc: 0.8340\n",
      "Epoch 19/30\n",
      "53507/53507 [==============================] - 78s 1ms/step - loss: 0.4430 - acc: 0.8514 - val_loss: 0.4922 - val_acc: 0.8340\n",
      "Epoch 20/30\n",
      "53507/53507 [==============================] - 73s 1ms/step - loss: 0.4382 - acc: 0.8533 - val_loss: 0.4989 - val_acc: 0.8328\n",
      "Epoch 21/30\n",
      "53507/53507 [==============================] - 71s 1ms/step - loss: 0.4329 - acc: 0.8553 - val_loss: 0.5078 - val_acc: 0.8296\n",
      "Epoch 22/30\n",
      "53507/53507 [==============================] - 71s 1ms/step - loss: 0.4275 - acc: 0.8577 - val_loss: 0.4922 - val_acc: 0.8337\n",
      "Epoch 23/30\n",
      "53507/53507 [==============================] - 71s 1ms/step - loss: 0.4261 - acc: 0.8568 - val_loss: 0.4926 - val_acc: 0.8368\n",
      "Epoch 24/30\n",
      "53507/53507 [==============================] - 71s 1ms/step - loss: 0.4224 - acc: 0.8582 - val_loss: 0.4830 - val_acc: 0.8397\n",
      "Epoch 25/30\n",
      "53507/53507 [==============================] - 71s 1ms/step - loss: 0.4148 - acc: 0.8620 - val_loss: 0.4852 - val_acc: 0.8369\n",
      "Epoch 26/30\n",
      "53507/53507 [==============================] - 71s 1ms/step - loss: 0.4162 - acc: 0.8629 - val_loss: 0.4937 - val_acc: 0.8358\n",
      "Epoch 27/30\n",
      "53507/53507 [==============================] - 71s 1ms/step - loss: 0.4122 - acc: 0.8633 - val_loss: 0.4932 - val_acc: 0.8370\n",
      "Epoch 28/30\n",
      "53507/53507 [==============================] - 75s 1ms/step - loss: 0.4075 - acc: 0.8641 - val_loss: 0.5035 - val_acc: 0.8335\n",
      "Epoch 29/30\n",
      "53507/53507 [==============================] - 68s 1ms/step - loss: 0.4062 - acc: 0.8653 - val_loss: 0.4723 - val_acc: 0.8442\n",
      "Epoch 30/30\n",
      "53507/53507 [==============================] - 70s 1ms/step - loss: 0.4017 - acc: 0.8680 - val_loss: 0.4798 - val_acc: 0.8426\n",
      "Time elapsed: 0:36:27.848514\n"
     ]
    }
   ],
   "source": [
    "start = datetime.datetime.now()\n",
    "\n",
    "history_3 = model_3.fit(X_train, y_train, \n",
    "                    callbacks=[reduce_lr, early_stoppage], \n",
    "                    epochs=30, \n",
    "                    batch_size=32,\n",
    "                    validation_split=0.2)\n",
    "\n",
    "elapsed = datetime.datetime.now() - start\n",
    "print(f'Time elapsed: {elapsed}')"
   ]
  },
  {
   "cell_type": "markdown",
   "metadata": {
    "hidden": true
   },
   "source": [
    "#### Comparison to Previous Models"
   ]
  },
  {
   "cell_type": "code",
   "execution_count": 30,
   "metadata": {
    "hidden": true
   },
   "outputs": [
    {
     "data": {
      "text/html": [
       "<div>\n",
       "<style scoped>\n",
       "    .dataframe tbody tr th:only-of-type {\n",
       "        vertical-align: middle;\n",
       "    }\n",
       "\n",
       "    .dataframe tbody tr th {\n",
       "        vertical-align: top;\n",
       "    }\n",
       "\n",
       "    .dataframe thead th {\n",
       "        text-align: right;\n",
       "    }\n",
       "</style>\n",
       "<table border=\"1\" class=\"dataframe\">\n",
       "  <thead>\n",
       "    <tr style=\"text-align: right;\">\n",
       "      <th></th>\n",
       "      <th>img_size</th>\n",
       "      <th>num_conv_layers</th>\n",
       "      <th>num_dense_layers</th>\n",
       "      <th>extras</th>\n",
       "      <th>epochs</th>\n",
       "      <th>acc</th>\n",
       "      <th>loss</th>\n",
       "      <th>val_acc</th>\n",
       "      <th>val_loss</th>\n",
       "      <th>time</th>\n",
       "    </tr>\n",
       "  </thead>\n",
       "  <tbody>\n",
       "    <tr>\n",
       "      <th>0</th>\n",
       "      <td>40</td>\n",
       "      <td>3</td>\n",
       "      <td>1</td>\n",
       "      <td>None</td>\n",
       "      <td>30</td>\n",
       "      <td>0.97</td>\n",
       "      <td>0.08</td>\n",
       "      <td>0.86</td>\n",
       "      <td>0.72</td>\n",
       "      <td>28</td>\n",
       "    </tr>\n",
       "    <tr>\n",
       "      <th>1</th>\n",
       "      <td>40</td>\n",
       "      <td>3</td>\n",
       "      <td>2</td>\n",
       "      <td>callbacks</td>\n",
       "      <td>20</td>\n",
       "      <td>0.87</td>\n",
       "      <td>0.40</td>\n",
       "      <td>0.84</td>\n",
       "      <td>0.49</td>\n",
       "      <td>26</td>\n",
       "    </tr>\n",
       "    <tr>\n",
       "      <th>2</th>\n",
       "      <td>40</td>\n",
       "      <td>4</td>\n",
       "      <td>2</td>\n",
       "      <td>l2 reg</td>\n",
       "      <td>30</td>\n",
       "      <td>0.87</td>\n",
       "      <td>0.40</td>\n",
       "      <td>0.84</td>\n",
       "      <td>0.48</td>\n",
       "      <td>36</td>\n",
       "    </tr>\n",
       "  </tbody>\n",
       "</table>\n",
       "</div>"
      ],
      "text/plain": [
       "  img_size num_conv_layers num_dense_layers     extras epochs   acc  loss  \\\n",
       "0       40               3                1       None     30  0.97  0.08   \n",
       "1       40               3                2  callbacks     20  0.87  0.40   \n",
       "2       40               4                2     l2 reg     30  0.87  0.40   \n",
       "\n",
       "   val_acc  val_loss time  \n",
       "0     0.86      0.72   28  \n",
       "1     0.84      0.49   26  \n",
       "2     0.84      0.48   36  "
      ]
     },
     "execution_count": 30,
     "metadata": {},
     "output_type": "execute_result"
    }
   ],
   "source": [
    "model_3_results = [40, 4, 2, 'l2 reg', 30, 0.87, 0.40, 0.84, 0.48, 36]\n",
    "append_df(df, 2, model_3_results)"
   ]
  },
  {
   "cell_type": "markdown",
   "metadata": {
    "hidden": true
   },
   "source": [
    "#### Test Metrics"
   ]
  },
  {
   "cell_type": "code",
   "execution_count": 60,
   "metadata": {
    "hidden": true
   },
   "outputs": [
    {
     "name": "stdout",
     "output_type": "stream",
     "text": [
      "16721/16721 [==============================] - 6s 374us/step\n"
     ]
    },
    {
     "data": {
      "text/plain": [
       "[0.48898925440682584, 0.8396626996028709]"
      ]
     },
     "execution_count": 60,
     "metadata": {},
     "output_type": "execute_result"
    }
   ],
   "source": [
    "model_3.evaluate(X_test, y_test)"
   ]
  },
  {
   "cell_type": "markdown",
   "metadata": {
    "hidden": true
   },
   "source": [
    "#### Model 3 Observations\n",
    "The changes to Model 3 had very little effect on model performance."
   ]
  },
  {
   "cell_type": "code",
   "execution_count": 61,
   "metadata": {
    "hidden": true
   },
   "outputs": [],
   "source": [
    "model_3.save('Models/model_3_extra_layer_epochs.h5')"
   ]
  },
  {
   "cell_type": "markdown",
   "metadata": {
    "heading_collapsed": true
   },
   "source": [
    "### Model 4\n",
    "* Sequentially increase number of filters per layer (somewhat like the VGG models)\n",
    "* Add another convolutional layer\n",
    "* Replace L2 regularization with dropout regularization"
   ]
  },
  {
   "cell_type": "code",
   "execution_count": 9,
   "metadata": {
    "hidden": true
   },
   "outputs": [],
   "source": [
    "model_4 = Sequential()\n",
    "model_4.add(Conv2D(64, (3,4), \n",
    "                 input_shape=X.shape[1:], \n",
    "                 activation='relu', \n",
    "                 padding='same'))\n",
    "model_4.add(MaxPooling2D(2,2))\n",
    "\n",
    "model_4.add(Conv2D(64, (3,3), activation='relu', padding='same'))\n",
    "model_4.add(MaxPooling2D(2,2))\n",
    "\n",
    "model_4.add(Conv2D(128, (3,3), activation='relu', padding='same'))\n",
    "model_4.add(MaxPooling2D(2,2))\n",
    "\n",
    "model_4.add(Conv2D(256, (3,3), activation='relu', padding='same'))\n",
    "model_4.add(MaxPooling2D(2,2))\n",
    "\n",
    "model_4.add(Conv2D(512, (3,3), activation='relu', padding='same'))\n",
    "model_4.add(MaxPooling2D(2,2))\n",
    "\n",
    "model_4.add(Flatten())\n",
    "model_4.add(Dense(64, activation='relu'))\n",
    "model_4.add(Dropout(0.25))\n",
    "model_4.add(Dense(32, activation='relu'))\n",
    "model_4.add(Dropout(0.25))\n",
    "model_4.add(Dense(4, activation='softmax'))"
   ]
  },
  {
   "cell_type": "code",
   "execution_count": 10,
   "metadata": {
    "hidden": true
   },
   "outputs": [],
   "source": [
    "model_4.compile(optimizer='adam', loss='categorical_crossentropy', metrics=['acc'])"
   ]
  },
  {
   "cell_type": "code",
   "execution_count": 13,
   "metadata": {
    "hidden": true
   },
   "outputs": [
    {
     "name": "stdout",
     "output_type": "stream",
     "text": [
      "Train on 53507 samples, validate on 13377 samples\n",
      "Epoch 1/25\n",
      "53507/53507 [==============================] - 251s 5ms/step - loss: 0.9948 - acc: 0.6023 - val_loss: 0.7263 - val_acc: 0.7160\n",
      "Epoch 2/25\n",
      "53507/53507 [==============================] - 261s 5ms/step - loss: 0.7204 - acc: 0.7293 - val_loss: 0.6581 - val_acc: 0.7621\n",
      "Epoch 3/25\n",
      "53507/53507 [==============================] - 252s 5ms/step - loss: 0.6417 - acc: 0.7752 - val_loss: 0.5745 - val_acc: 0.7940\n",
      "Epoch 4/25\n",
      "53507/53507 [==============================] - 241s 5ms/step - loss: 0.5732 - acc: 0.8014 - val_loss: 0.5112 - val_acc: 0.8124\n",
      "Epoch 5/25\n",
      "53507/53507 [==============================] - 246s 5ms/step - loss: 0.5338 - acc: 0.8131 - val_loss: 0.4936 - val_acc: 0.8168\n",
      "Epoch 6/25\n",
      "53507/53507 [==============================] - 257s 5ms/step - loss: 0.4977 - acc: 0.8245 - val_loss: 0.4707 - val_acc: 0.8230\n",
      "Epoch 7/25\n",
      "53507/53507 [==============================] - 259s 5ms/step - loss: 0.4689 - acc: 0.8345 - val_loss: 0.4430 - val_acc: 0.8411\n",
      "Epoch 8/25\n",
      "53507/53507 [==============================] - 257s 5ms/step - loss: 0.4465 - acc: 0.8424 - val_loss: 0.4537 - val_acc: 0.8394\n",
      "Epoch 9/25\n",
      "53507/53507 [==============================] - 259s 5ms/step - loss: 0.4272 - acc: 0.8517 - val_loss: 0.4407 - val_acc: 0.8455\n",
      "Epoch 10/25\n",
      "53507/53507 [==============================] - 267s 5ms/step - loss: 0.4082 - acc: 0.8571 - val_loss: 0.4499 - val_acc: 0.8362\n",
      "Epoch 11/25\n",
      "53507/53507 [==============================] - 280s 5ms/step - loss: 0.3898 - acc: 0.8649 - val_loss: 0.4423 - val_acc: 0.8534\n",
      "Epoch 12/25\n",
      "53507/53507 [==============================] - 266s 5ms/step - loss: 0.3763 - acc: 0.8715 - val_loss: 0.4502 - val_acc: 0.8562\n",
      "Epoch 13/25\n",
      "53507/53507 [==============================] - 259s 5ms/step - loss: 0.3596 - acc: 0.8750 - val_loss: 0.4352 - val_acc: 0.8559\n",
      "Epoch 14/25\n",
      "53507/53507 [==============================] - 267s 5ms/step - loss: 0.3500 - acc: 0.8764 - val_loss: 0.4548 - val_acc: 0.8455\n",
      "Epoch 15/25\n",
      "53507/53507 [==============================] - 282s 5ms/step - loss: 0.3309 - acc: 0.8844 - val_loss: 0.4467 - val_acc: 0.8642\n",
      "Epoch 16/25\n",
      "53507/53507 [==============================] - 285s 5ms/step - loss: 0.3233 - acc: 0.8858 - val_loss: 0.4831 - val_acc: 0.8562\n",
      "Epoch 17/25\n",
      "53507/53507 [==============================] - 286s 5ms/step - loss: 0.3130 - acc: 0.8919 - val_loss: 0.4630 - val_acc: 0.8594\n",
      "Epoch 18/25\n",
      "53507/53507 [==============================] - 289s 5ms/step - loss: 0.2978 - acc: 0.8973 - val_loss: 0.4404 - val_acc: 0.8644\n",
      "Epoch 19/25\n",
      "53507/53507 [==============================] - 290s 5ms/step - loss: 0.2937 - acc: 0.8979 - val_loss: 0.4380 - val_acc: 0.8623\n",
      "Epoch 20/25\n",
      "53507/53507 [==============================] - 291s 5ms/step - loss: 0.2870 - acc: 0.9026 - val_loss: 0.4756 - val_acc: 0.8613\n",
      "Epoch 00020: early stopping\n",
      "Time elapsed: 1:29:07.678431\n"
     ]
    }
   ],
   "source": [
    "start = datetime.datetime.now()\n",
    "\n",
    "model_4.fit(X_train, y_train,\n",
    "           batch_size=32,\n",
    "           epochs=25,\n",
    "           validation_split=0.2,\n",
    "           callbacks=[reduce_lr, early_stoppage])\n",
    "\n",
    "elapsed = datetime.datetime.now() - start\n",
    "print(f'Time elapsed: {elapsed}')"
   ]
  },
  {
   "cell_type": "markdown",
   "metadata": {
    "hidden": true
   },
   "source": [
    "#### Comparison to Previous Models"
   ]
  },
  {
   "cell_type": "code",
   "execution_count": 44,
   "metadata": {
    "hidden": true
   },
   "outputs": [
    {
     "data": {
      "text/html": [
       "<div>\n",
       "<style scoped>\n",
       "    .dataframe tbody tr th:only-of-type {\n",
       "        vertical-align: middle;\n",
       "    }\n",
       "\n",
       "    .dataframe tbody tr th {\n",
       "        vertical-align: top;\n",
       "    }\n",
       "\n",
       "    .dataframe thead th {\n",
       "        text-align: right;\n",
       "    }\n",
       "</style>\n",
       "<table border=\"1\" class=\"dataframe\">\n",
       "  <thead>\n",
       "    <tr style=\"text-align: right;\">\n",
       "      <th></th>\n",
       "      <th>img_size</th>\n",
       "      <th>num_conv_layers</th>\n",
       "      <th>num_dense_layers</th>\n",
       "      <th>extras</th>\n",
       "      <th>epochs</th>\n",
       "      <th>acc</th>\n",
       "      <th>loss</th>\n",
       "      <th>val_acc</th>\n",
       "      <th>val_loss</th>\n",
       "      <th>time</th>\n",
       "    </tr>\n",
       "  </thead>\n",
       "  <tbody>\n",
       "    <tr>\n",
       "      <th>0</th>\n",
       "      <td>40</td>\n",
       "      <td>3</td>\n",
       "      <td>1</td>\n",
       "      <td>None</td>\n",
       "      <td>30</td>\n",
       "      <td>0.97</td>\n",
       "      <td>0.08</td>\n",
       "      <td>0.86</td>\n",
       "      <td>0.72</td>\n",
       "      <td>28</td>\n",
       "    </tr>\n",
       "    <tr>\n",
       "      <th>1</th>\n",
       "      <td>40</td>\n",
       "      <td>3</td>\n",
       "      <td>2</td>\n",
       "      <td>callbacks</td>\n",
       "      <td>20</td>\n",
       "      <td>0.87</td>\n",
       "      <td>0.40</td>\n",
       "      <td>0.84</td>\n",
       "      <td>0.49</td>\n",
       "      <td>26</td>\n",
       "    </tr>\n",
       "    <tr>\n",
       "      <th>2</th>\n",
       "      <td>40</td>\n",
       "      <td>4</td>\n",
       "      <td>2</td>\n",
       "      <td>l2 reg</td>\n",
       "      <td>30</td>\n",
       "      <td>0.87</td>\n",
       "      <td>0.40</td>\n",
       "      <td>0.84</td>\n",
       "      <td>0.48</td>\n",
       "      <td>36</td>\n",
       "    </tr>\n",
       "    <tr>\n",
       "      <th>3</th>\n",
       "      <td>40</td>\n",
       "      <td>5</td>\n",
       "      <td>2</td>\n",
       "      <td>dropout</td>\n",
       "      <td>20</td>\n",
       "      <td>0.90</td>\n",
       "      <td>0.29</td>\n",
       "      <td>0.86</td>\n",
       "      <td>0.48</td>\n",
       "      <td>1:29</td>\n",
       "    </tr>\n",
       "  </tbody>\n",
       "</table>\n",
       "</div>"
      ],
      "text/plain": [
       "  img_size num_conv_layers num_dense_layers     extras epochs   acc  loss  \\\n",
       "0       40               3                1       None     30  0.97  0.08   \n",
       "1       40               3                2  callbacks     20  0.87  0.40   \n",
       "2       40               4                2     l2 reg     30  0.87  0.40   \n",
       "3       40               5                2    dropout     20  0.90  0.29   \n",
       "\n",
       "   val_acc  val_loss  time  \n",
       "0     0.86      0.72    28  \n",
       "1     0.84      0.49    26  \n",
       "2     0.84      0.48    36  \n",
       "3     0.86      0.48  1:29  "
      ]
     },
     "execution_count": 44,
     "metadata": {},
     "output_type": "execute_result"
    }
   ],
   "source": [
    "model_4_results = [40, 5, 2, 'dropout', 20, 0.90, 0.29, 0.86, 0.48, '1:29']\n",
    "append_df(df, 3, model_4_results)"
   ]
  },
  {
   "cell_type": "markdown",
   "metadata": {
    "hidden": true
   },
   "source": [
    "#### Test Metrics"
   ]
  },
  {
   "cell_type": "code",
   "execution_count": 14,
   "metadata": {
    "hidden": true
   },
   "outputs": [
    {
     "name": "stdout",
     "output_type": "stream",
     "text": [
      "16721/16721 [==============================] - 14s 816us/step\n"
     ]
    },
    {
     "data": {
      "text/plain": [
       "[0.4644889997112417, 0.8591591412032537]"
      ]
     },
     "execution_count": 14,
     "metadata": {},
     "output_type": "execute_result"
    }
   ],
   "source": [
    "model_4.evaluate(X_test, y_test)"
   ]
  },
  {
   "cell_type": "markdown",
   "metadata": {
    "hidden": true
   },
   "source": [
    "#### Model 4 Observations\n",
    "Accuracy increased with added conv layers and more filters, and by replacing L2 regularization with dropout.\n",
    "Training loss also decreased. Val_acc slightly increased. Val_loss stayed the same. The highest accuracy (but with the most overfitting) was observed in initial model - which was the only model with only 1 dense layer but no regularization, callbacks, or dropout. Model 1 also used the largest kernel size of (4,4) in one of its conv layers. Will try using larger 50x50 images with an architecture similar to Model 1 but with dropout and more filters, similar to Model 4. "
   ]
  },
  {
   "cell_type": "code",
   "execution_count": 15,
   "metadata": {
    "hidden": true
   },
   "outputs": [],
   "source": [
    "model_4.save('Models/model_4_larger_filters.h5')"
   ]
  },
  {
   "cell_type": "markdown",
   "metadata": {},
   "source": [
    "### Model 5\n",
    "* 1 dense layer with dropout\n",
    "* more filters in conv layers\n",
    "* larger kernel size in second conv layer\n",
    "* callbacks\n",
    "* larger validation set (validation split will stay the same, but training data overall is larger due to smaller holdout set)"
   ]
  },
  {
   "cell_type": "code",
   "execution_count": 46,
   "metadata": {},
   "outputs": [],
   "source": [
    "model_5 = Sequential()\n",
    "model_5.add(Conv2D(64, (3,3), \n",
    "                  input_shape=X.shape[1:], \n",
    "                  activation='relu'))\n",
    "model_5.add(MaxPooling2D(2,2))\n",
    "\n",
    "model_5.add(Conv2D(64, (4,4), activation='relu'))\n",
    "model_5.add(MaxPooling2D(2,2))\n",
    "\n",
    "model_5.add(Conv2D(128, (3,3), activation='relu'))\n",
    "model_5.add(MaxPooling2D(2,2))\n",
    "\n",
    "model_5.add(Flatten())\n",
    "model_5.add(Dense(64, activation='relu'))\n",
    "model_5.add(Dropout(0.5))\n",
    "model_5.add(Dense(4, activation='softmax'))"
   ]
  },
  {
   "cell_type": "markdown",
   "metadata": {},
   "source": [
    "#### Model Summary"
   ]
  },
  {
   "cell_type": "code",
   "execution_count": 51,
   "metadata": {},
   "outputs": [
    {
     "name": "stdout",
     "output_type": "stream",
     "text": [
      "_________________________________________________________________\n",
      "Layer (type)                 Output Shape              Param #   \n",
      "=================================================================\n",
      "conv2d_1 (Conv2D)            (None, 48, 48, 64)        640       \n",
      "_________________________________________________________________\n",
      "max_pooling2d_1 (MaxPooling2 (None, 24, 24, 64)        0         \n",
      "_________________________________________________________________\n",
      "conv2d_2 (Conv2D)            (None, 21, 21, 64)        65600     \n",
      "_________________________________________________________________\n",
      "max_pooling2d_2 (MaxPooling2 (None, 10, 10, 64)        0         \n",
      "_________________________________________________________________\n",
      "conv2d_3 (Conv2D)            (None, 8, 8, 128)         73856     \n",
      "_________________________________________________________________\n",
      "max_pooling2d_3 (MaxPooling2 (None, 4, 4, 128)         0         \n",
      "_________________________________________________________________\n",
      "flatten_1 (Flatten)          (None, 2048)              0         \n",
      "_________________________________________________________________\n",
      "dense_1 (Dense)              (None, 64)                131136    \n",
      "_________________________________________________________________\n",
      "dropout_1 (Dropout)          (None, 64)                0         \n",
      "_________________________________________________________________\n",
      "dense_2 (Dense)              (None, 4)                 260       \n",
      "=================================================================\n",
      "Total params: 271,492\n",
      "Trainable params: 271,492\n",
      "Non-trainable params: 0\n",
      "_________________________________________________________________\n"
     ]
    }
   ],
   "source": [
    "model_5.summary()"
   ]
  },
  {
   "cell_type": "code",
   "execution_count": 47,
   "metadata": {},
   "outputs": [],
   "source": [
    "model_5.compile(optimizer='adam', loss='categorical_crossentropy', metrics=['acc'])"
   ]
  },
  {
   "cell_type": "code",
   "execution_count": 48,
   "metadata": {},
   "outputs": [
    {
     "name": "stdout",
     "output_type": "stream",
     "text": [
      "Train on 60195 samples, validate on 15049 samples\n",
      "Epoch 1/25\n",
      "60195/60195 [==============================] - 243s 4ms/step - loss: 0.7405 - acc: 0.7226 - val_loss: 0.5719 - val_acc: 0.7893\n",
      "Epoch 2/25\n",
      "60195/60195 [==============================] - 225s 4ms/step - loss: 0.5030 - acc: 0.8220 - val_loss: 0.4288 - val_acc: 0.8441\n",
      "Epoch 3/25\n",
      "60195/60195 [==============================] - 224s 4ms/step - loss: 0.4182 - acc: 0.8539 - val_loss: 0.3703 - val_acc: 0.8672\n",
      "Epoch 4/25\n",
      "60195/60195 [==============================] - 224s 4ms/step - loss: 0.3687 - acc: 0.8731 - val_loss: 0.3515 - val_acc: 0.8786\n",
      "Epoch 5/25\n",
      "60195/60195 [==============================] - 225s 4ms/step - loss: 0.3357 - acc: 0.8841 - val_loss: 0.3412 - val_acc: 0.8811\n",
      "Epoch 6/25\n",
      "60195/60195 [==============================] - 226s 4ms/step - loss: 0.3090 - acc: 0.8926 - val_loss: 0.3128 - val_acc: 0.8921\n",
      "Epoch 7/25\n",
      "60195/60195 [==============================] - 231s 4ms/step - loss: 0.2874 - acc: 0.8995 - val_loss: 0.3197 - val_acc: 0.8879\n",
      "Epoch 8/25\n",
      "60195/60195 [==============================] - 230s 4ms/step - loss: 0.2701 - acc: 0.9046 - val_loss: 0.3178 - val_acc: 0.8918\n",
      "Epoch 9/25\n",
      "60195/60195 [==============================] - 242s 4ms/step - loss: 0.2529 - acc: 0.9110 - val_loss: 0.3310 - val_acc: 0.8906\n",
      "Epoch 10/25\n",
      "60195/60195 [==============================] - 239s 4ms/step - loss: 0.2361 - acc: 0.9154 - val_loss: 0.3177 - val_acc: 0.8969\n",
      "Epoch 11/25\n",
      "60195/60195 [==============================] - 236s 4ms/step - loss: 0.2201 - acc: 0.9230 - val_loss: 0.3197 - val_acc: 0.8963\n",
      "Epoch 12/25\n",
      "60195/60195 [==============================] - 237s 4ms/step - loss: 0.2072 - acc: 0.9250 - val_loss: 0.3464 - val_acc: 0.8924\n",
      "Epoch 13/25\n",
      "60195/60195 [==============================] - 233s 4ms/step - loss: 0.2021 - acc: 0.9273 - val_loss: 0.3344 - val_acc: 0.8979\n",
      "Epoch 00013: early stopping\n",
      "Total time elapsed: 0:50:15.241704\n"
     ]
    }
   ],
   "source": [
    "start = datetime.datetime.now()\n",
    "\n",
    "history_5 = model_5.fit(X_train, y_train,\n",
    "                       validation_split=0.2,\n",
    "                       callbacks=[reduce_lr, early_stoppage],\n",
    "                       batch_size=32,\n",
    "                       epochs=25)\n",
    "\n",
    "elapsed = datetime.datetime.now() - start\n",
    "print(f'Total time elapsed: {elapsed}')"
   ]
  },
  {
   "cell_type": "markdown",
   "metadata": {},
   "source": [
    "#### Comparison to Previous Models"
   ]
  },
  {
   "cell_type": "code",
   "execution_count": 61,
   "metadata": {},
   "outputs": [
    {
     "data": {
      "text/html": [
       "<div>\n",
       "<style scoped>\n",
       "    .dataframe tbody tr th:only-of-type {\n",
       "        vertical-align: middle;\n",
       "    }\n",
       "\n",
       "    .dataframe tbody tr th {\n",
       "        vertical-align: top;\n",
       "    }\n",
       "\n",
       "    .dataframe thead th {\n",
       "        text-align: right;\n",
       "    }\n",
       "</style>\n",
       "<table border=\"1\" class=\"dataframe\">\n",
       "  <thead>\n",
       "    <tr style=\"text-align: right;\">\n",
       "      <th></th>\n",
       "      <th>img_size</th>\n",
       "      <th>num_conv_layers</th>\n",
       "      <th>num_dense_layers</th>\n",
       "      <th>extras</th>\n",
       "      <th>epochs</th>\n",
       "      <th>acc</th>\n",
       "      <th>loss</th>\n",
       "      <th>val_acc</th>\n",
       "      <th>val_loss</th>\n",
       "      <th>time</th>\n",
       "    </tr>\n",
       "  </thead>\n",
       "  <tbody>\n",
       "    <tr>\n",
       "      <th>0</th>\n",
       "      <td>40</td>\n",
       "      <td>3</td>\n",
       "      <td>1</td>\n",
       "      <td>None</td>\n",
       "      <td>30</td>\n",
       "      <td>0.97</td>\n",
       "      <td>0.08</td>\n",
       "      <td>0.86</td>\n",
       "      <td>0.72</td>\n",
       "      <td>28</td>\n",
       "    </tr>\n",
       "    <tr>\n",
       "      <th>1</th>\n",
       "      <td>40</td>\n",
       "      <td>3</td>\n",
       "      <td>2</td>\n",
       "      <td>callbacks</td>\n",
       "      <td>20</td>\n",
       "      <td>0.87</td>\n",
       "      <td>0.40</td>\n",
       "      <td>0.84</td>\n",
       "      <td>0.49</td>\n",
       "      <td>26</td>\n",
       "    </tr>\n",
       "    <tr>\n",
       "      <th>2</th>\n",
       "      <td>40</td>\n",
       "      <td>4</td>\n",
       "      <td>2</td>\n",
       "      <td>l2 reg</td>\n",
       "      <td>30</td>\n",
       "      <td>0.87</td>\n",
       "      <td>0.40</td>\n",
       "      <td>0.84</td>\n",
       "      <td>0.48</td>\n",
       "      <td>36</td>\n",
       "    </tr>\n",
       "    <tr>\n",
       "      <th>3</th>\n",
       "      <td>40</td>\n",
       "      <td>5</td>\n",
       "      <td>2</td>\n",
       "      <td>dropout</td>\n",
       "      <td>20</td>\n",
       "      <td>0.90</td>\n",
       "      <td>0.29</td>\n",
       "      <td>0.86</td>\n",
       "      <td>0.48</td>\n",
       "      <td>1:29</td>\n",
       "    </tr>\n",
       "    <tr>\n",
       "      <th>4</th>\n",
       "      <td>50</td>\n",
       "      <td>3</td>\n",
       "      <td>1</td>\n",
       "      <td>increase img size</td>\n",
       "      <td>13</td>\n",
       "      <td>0.93</td>\n",
       "      <td>0.20</td>\n",
       "      <td>0.90</td>\n",
       "      <td>0.33</td>\n",
       "      <td>50</td>\n",
       "    </tr>\n",
       "  </tbody>\n",
       "</table>\n",
       "</div>"
      ],
      "text/plain": [
       "  img_size num_conv_layers num_dense_layers             extras epochs   acc  \\\n",
       "0       40               3                1               None     30  0.97   \n",
       "1       40               3                2          callbacks     20  0.87   \n",
       "2       40               4                2             l2 reg     30  0.87   \n",
       "3       40               5                2            dropout     20  0.90   \n",
       "4       50               3                1  increase img size     13  0.93   \n",
       "\n",
       "   loss  val_acc  val_loss  time  \n",
       "0  0.08     0.86      0.72    28  \n",
       "1  0.40     0.84      0.49    26  \n",
       "2  0.40     0.84      0.48    36  \n",
       "3  0.29     0.86      0.48  1:29  \n",
       "4  0.20     0.90      0.33    50  "
      ]
     },
     "execution_count": 61,
     "metadata": {},
     "output_type": "execute_result"
    }
   ],
   "source": [
    "model_5_results = [50, 3, 1, 'increase img size', 13, 0.93, 0.2, 0.90, 0.33, 50]\n",
    "append_df(df, 4, model_5_results)"
   ]
  },
  {
   "cell_type": "markdown",
   "metadata": {},
   "source": [
    "#### Train & Test Metrics"
   ]
  },
  {
   "cell_type": "code",
   "execution_count": 53,
   "metadata": {},
   "outputs": [
    {
     "name": "stdout",
     "output_type": "stream",
     "text": [
      "75244/75244 [==============================] - 75s 995us/step\n",
      "Training loss: 0.18105564022579423\n",
      "75244/75244 [==============================] - 76s 1ms/step\n",
      "Training accuracy: 0.9374568071904527\n",
      "8361/8361 [==============================] - 9s 1ms/step\n",
      "Test loss: 0.33459371699056134\n",
      "8361/8361 [==============================] - 8s 993us/step\n",
      "Test accuracy: 0.8986963282046656\n"
     ]
    }
   ],
   "source": [
    "print_metrics(model_5, X_train, y_train, X_test, y_test)"
   ]
  },
  {
   "cell_type": "markdown",
   "metadata": {},
   "source": [
    "#### Accuracy & Loss vs. Epochs"
   ]
  },
  {
   "cell_type": "code",
   "execution_count": 60,
   "metadata": {},
   "outputs": [
    {
     "data": {
      "image/png": "[encoded data removed]",
      "text/plain": [
       "<Figure size 576x432 with 1 Axes>"
      ]
     },
     "metadata": {
      "needs_background": "light"
     },
     "output_type": "display_data"
    }
   ],
   "source": [
    "plot_acc_and_val(history_5)"
   ]
  },
  {
   "cell_type": "markdown",
   "metadata": {},
   "source": [
    "#### Observations on Model 5\n",
    "Model 5 performs better than the previous models (in all 4 training metrics), though it stopped after only 13 epochs. The plot shows that val_loss did reach a plateau, but perhaps a few more epochs would have given the model a slight improvement. Will adjust callbacks to decrease patience on learning rate and increase patience on early stopping. Will keep increased image size and larger training set, add another convolutional layer, and add another dense layer with dropout. "
   ]
  },
  {
   "cell_type": "code",
   "execution_count": 69,
   "metadata": {},
   "outputs": [],
   "source": [
    "model_5.save('Models/model_5_more_train_data.h5')"
   ]
  },
  {
   "cell_type": "markdown",
   "metadata": {},
   "source": [
    "### Model 6\n",
    "* add 1 convolutional layer\n",
    "* add 1 dense layer with dropout\n",
    "* adjust patience on callbacks"
   ]
  },
  {
   "cell_type": "markdown",
   "metadata": {},
   "source": [
    "#### Adjust Callback Parameters \n",
    "Reduce patience for reducing Learning Rate and increase patience for Early Stopping"
   ]
  },
  {
   "cell_type": "code",
   "execution_count": 62,
   "metadata": {},
   "outputs": [],
   "source": [
    "reduce_lr = ReduceLROnPlateau(monitor='val_loss', \n",
    "                              factor=0.2,\n",
    "                              patience=3, \n",
    "                              min_lr=0.001,\n",
    "                              verbose=1)\n",
    "\n",
    "early_stoppage = EarlyStopping(monitor='val_loss', \n",
    "                               min_delta=0, \n",
    "                               patience=10, \n",
    "                               verbose=1, \n",
    "                               mode='auto', \n",
    "                               baseline=None, \n",
    "                               restore_best_weights=False)"
   ]
  },
  {
   "cell_type": "code",
   "execution_count": 65,
   "metadata": {},
   "outputs": [],
   "source": [
    "model_6 = Sequential()\n",
    "model_6.add(Conv2D(64, (3,3), \n",
    "                  input_shape=X.shape[1:], \n",
    "                  activation='relu',\n",
    "                  padding='same'))\n",
    "model_6.add(MaxPooling2D(2,2))\n",
    "\n",
    "model_6.add(Conv2D(64, (4,4), activation='relu', padding='same'))\n",
    "model_6.add(MaxPooling2D(2,2))\n",
    "\n",
    "model_6.add(Conv2D(128, (3,3), activation='relu', padding='same'))\n",
    "model_6.add(MaxPooling2D(2,2))\n",
    "\n",
    "model_6.add(Conv2D(256, (3,3), activation='relu', padding='same'))\n",
    "model_6.add(MaxPooling2D(2,2))\n",
    "\n",
    "model_6.add(Flatten())\n",
    "model_6.add(Dense(64, activation='relu'))\n",
    "model_6.add(Dropout(0.3))\n",
    "model_6.add(Dense(64, activation='relu'))\n",
    "model_6.add(Dropout(0.3))\n",
    "model_6.add(Dense(4, activation='softmax'))"
   ]
  },
  {
   "cell_type": "markdown",
   "metadata": {},
   "source": [
    "#### Model Summary"
   ]
  },
  {
   "cell_type": "code",
   "execution_count": 67,
   "metadata": {},
   "outputs": [
    {
     "name": "stdout",
     "output_type": "stream",
     "text": [
      "_________________________________________________________________\n",
      "Layer (type)                 Output Shape              Param #   \n",
      "=================================================================\n",
      "conv2d_12 (Conv2D)           (None, 50, 50, 64)        640       \n",
      "_________________________________________________________________\n",
      "max_pooling2d_12 (MaxPooling (None, 25, 25, 64)        0         \n",
      "_________________________________________________________________\n",
      "conv2d_13 (Conv2D)           (None, 25, 25, 64)        65600     \n",
      "_________________________________________________________________\n",
      "max_pooling2d_13 (MaxPooling (None, 12, 12, 64)        0         \n",
      "_________________________________________________________________\n",
      "conv2d_14 (Conv2D)           (None, 12, 12, 128)       73856     \n",
      "_________________________________________________________________\n",
      "max_pooling2d_14 (MaxPooling (None, 6, 6, 128)         0         \n",
      "_________________________________________________________________\n",
      "conv2d_15 (Conv2D)           (None, 6, 6, 256)         295168    \n",
      "_________________________________________________________________\n",
      "max_pooling2d_15 (MaxPooling (None, 3, 3, 256)         0         \n",
      "_________________________________________________________________\n",
      "flatten_2 (Flatten)          (None, 2304)              0         \n",
      "_________________________________________________________________\n",
      "dense_3 (Dense)              (None, 64)                147520    \n",
      "_________________________________________________________________\n",
      "dropout_2 (Dropout)          (None, 64)                0         \n",
      "_________________________________________________________________\n",
      "dense_4 (Dense)              (None, 64)                4160      \n",
      "_________________________________________________________________\n",
      "dropout_3 (Dropout)          (None, 64)                0         \n",
      "_________________________________________________________________\n",
      "dense_5 (Dense)              (None, 4)                 260       \n",
      "=================================================================\n",
      "Total params: 587,204\n",
      "Trainable params: 587,204\n",
      "Non-trainable params: 0\n",
      "_________________________________________________________________\n"
     ]
    }
   ],
   "source": [
    "model_6.summary()"
   ]
  },
  {
   "cell_type": "code",
   "execution_count": 66,
   "metadata": {},
   "outputs": [],
   "source": [
    "model_6.compile(loss='categorical_crossentropy', optimizer='adam', metrics=['acc'])"
   ]
  },
  {
   "cell_type": "code",
   "execution_count": 68,
   "metadata": {},
   "outputs": [
    {
     "name": "stdout",
     "output_type": "stream",
     "text": [
      "Train on 60195 samples, validate on 15049 samples\n",
      "Epoch 1/30\n",
      "60195/60195 [==============================] - 363s 6ms/step - loss: 0.7665 - acc: 0.7051 - val_loss: 0.5581 - val_acc: 0.8012\n",
      "Epoch 2/30\n",
      "60195/60195 [==============================] - 350s 6ms/step - loss: 0.4739 - acc: 0.8340 - val_loss: 0.4018 - val_acc: 0.8573\n",
      "Epoch 3/30\n",
      "60195/60195 [==============================] - 348s 6ms/step - loss: 0.3892 - acc: 0.8651 - val_loss: 0.3329 - val_acc: 0.8823\n",
      "Epoch 4/30\n",
      "60195/60195 [==============================] - 332s 6ms/step - loss: 0.3392 - acc: 0.8852 - val_loss: 0.3231 - val_acc: 0.8874\n",
      "Epoch 5/30\n",
      "60195/60195 [==============================] - 359s 6ms/step - loss: 0.3069 - acc: 0.8945 - val_loss: 0.3274 - val_acc: 0.8833\n",
      "Epoch 6/30\n",
      "60195/60195 [==============================] - 354s 6ms/step - loss: 0.2802 - acc: 0.9047 - val_loss: 0.3084 - val_acc: 0.8949\n",
      "Epoch 7/30\n",
      "60195/60195 [==============================] - 374s 6ms/step - loss: 0.2507 - acc: 0.9142 - val_loss: 0.3468 - val_acc: 0.8783\n",
      "Epoch 8/30\n",
      "60195/60195 [==============================] - 403s 7ms/step - loss: 0.2333 - acc: 0.9209 - val_loss: 0.3110 - val_acc: 0.8939\n",
      "Epoch 9/30\n",
      "60195/60195 [==============================] - 352s 6ms/step - loss: 0.2177 - acc: 0.9241 - val_loss: 0.2926 - val_acc: 0.9013\n",
      "Epoch 10/30\n",
      "60195/60195 [==============================] - 335s 6ms/step - loss: 0.1997 - acc: 0.9321 - val_loss: 0.3165 - val_acc: 0.9011\n",
      "Epoch 11/30\n",
      "60195/60195 [==============================] - 347s 6ms/step - loss: 0.1826 - acc: 0.9376 - val_loss: 0.2974 - val_acc: 0.9015\n",
      "Epoch 12/30\n",
      "60195/60195 [==============================] - 375s 6ms/step - loss: 0.1701 - acc: 0.9417 - val_loss: 0.3086 - val_acc: 0.8988\n",
      "\n",
      "Epoch 00012: ReduceLROnPlateau reducing learning rate to 0.001.\n",
      "Epoch 13/30\n",
      "60195/60195 [==============================] - 354s 6ms/step - loss: 0.1615 - acc: 0.9440 - val_loss: 0.3428 - val_acc: 0.8921\n",
      "Epoch 14/30\n",
      "60195/60195 [==============================] - 340s 6ms/step - loss: 0.1489 - acc: 0.9483 - val_loss: 0.3374 - val_acc: 0.9002\n",
      "Epoch 15/30\n",
      "60195/60195 [==============================] - 346s 6ms/step - loss: 0.1382 - acc: 0.9520 - val_loss: 0.3787 - val_acc: 0.8911\n",
      "\n",
      "Epoch 00015: ReduceLROnPlateau reducing learning rate to 0.001.\n",
      "Epoch 16/30\n",
      "60195/60195 [==============================] - 346s 6ms/step - loss: 0.1322 - acc: 0.9539 - val_loss: 0.3683 - val_acc: 0.9019\n",
      "Epoch 17/30\n",
      "60195/60195 [==============================] - 345s 6ms/step - loss: 0.1211 - acc: 0.9584 - val_loss: 0.3711 - val_acc: 0.9024\n",
      "Epoch 18/30\n",
      "60195/60195 [==============================] - 344s 6ms/step - loss: 0.1108 - acc: 0.9620 - val_loss: 0.3648 - val_acc: 0.9017\n",
      "\n",
      "Epoch 00018: ReduceLROnPlateau reducing learning rate to 0.001.\n",
      "Epoch 19/30\n",
      "60195/60195 [==============================] - 331s 6ms/step - loss: 0.1060 - acc: 0.9638 - val_loss: 0.4083 - val_acc: 0.9009\n",
      "Epoch 00019: early stopping\n",
      "Total time elapsed: 1:51:37.512210\n"
     ]
    }
   ],
   "source": [
    "start = datetime.datetime.now()\n",
    "\n",
    "history_6 = model_6.fit(X_train, y_train,\n",
    "                       callbacks=[reduce_lr, early_stoppage],\n",
    "                       validation_split=0.2,\n",
    "                       batch_size=32,\n",
    "                       epochs=30)\n",
    "\n",
    "elapsed = datetime.datetime.now() - start\n",
    "print(f'Total time elapsed: {elapsed}')"
   ]
  },
  {
   "cell_type": "markdown",
   "metadata": {},
   "source": [
    "#### Comparison to Previous Models"
   ]
  },
  {
   "cell_type": "code",
   "execution_count": 74,
   "metadata": {},
   "outputs": [
    {
     "data": {
      "text/html": [
       "<div>\n",
       "<style scoped>\n",
       "    .dataframe tbody tr th:only-of-type {\n",
       "        vertical-align: middle;\n",
       "    }\n",
       "\n",
       "    .dataframe tbody tr th {\n",
       "        vertical-align: top;\n",
       "    }\n",
       "\n",
       "    .dataframe thead th {\n",
       "        text-align: right;\n",
       "    }\n",
       "</style>\n",
       "<table border=\"1\" class=\"dataframe\">\n",
       "  <thead>\n",
       "    <tr style=\"text-align: right;\">\n",
       "      <th></th>\n",
       "      <th>img_size</th>\n",
       "      <th>num_conv_layers</th>\n",
       "      <th>num_dense_layers</th>\n",
       "      <th>extras</th>\n",
       "      <th>epochs</th>\n",
       "      <th>acc</th>\n",
       "      <th>loss</th>\n",
       "      <th>val_acc</th>\n",
       "      <th>val_loss</th>\n",
       "      <th>time</th>\n",
       "    </tr>\n",
       "  </thead>\n",
       "  <tbody>\n",
       "    <tr>\n",
       "      <th>0</th>\n",
       "      <td>40</td>\n",
       "      <td>3</td>\n",
       "      <td>1</td>\n",
       "      <td>None</td>\n",
       "      <td>30</td>\n",
       "      <td>0.97</td>\n",
       "      <td>0.08</td>\n",
       "      <td>0.86</td>\n",
       "      <td>0.72</td>\n",
       "      <td>28</td>\n",
       "    </tr>\n",
       "    <tr>\n",
       "      <th>1</th>\n",
       "      <td>40</td>\n",
       "      <td>3</td>\n",
       "      <td>2</td>\n",
       "      <td>callbacks</td>\n",
       "      <td>20</td>\n",
       "      <td>0.87</td>\n",
       "      <td>0.40</td>\n",
       "      <td>0.84</td>\n",
       "      <td>0.49</td>\n",
       "      <td>26</td>\n",
       "    </tr>\n",
       "    <tr>\n",
       "      <th>2</th>\n",
       "      <td>40</td>\n",
       "      <td>4</td>\n",
       "      <td>2</td>\n",
       "      <td>l2 reg</td>\n",
       "      <td>30</td>\n",
       "      <td>0.87</td>\n",
       "      <td>0.40</td>\n",
       "      <td>0.84</td>\n",
       "      <td>0.48</td>\n",
       "      <td>36</td>\n",
       "    </tr>\n",
       "    <tr>\n",
       "      <th>3</th>\n",
       "      <td>40</td>\n",
       "      <td>5</td>\n",
       "      <td>2</td>\n",
       "      <td>dropout</td>\n",
       "      <td>20</td>\n",
       "      <td>0.90</td>\n",
       "      <td>0.29</td>\n",
       "      <td>0.86</td>\n",
       "      <td>0.48</td>\n",
       "      <td>1:29</td>\n",
       "    </tr>\n",
       "    <tr>\n",
       "      <th>4</th>\n",
       "      <td>50</td>\n",
       "      <td>3</td>\n",
       "      <td>1</td>\n",
       "      <td>increase img size</td>\n",
       "      <td>13</td>\n",
       "      <td>0.93</td>\n",
       "      <td>0.20</td>\n",
       "      <td>0.90</td>\n",
       "      <td>0.33</td>\n",
       "      <td>50</td>\n",
       "    </tr>\n",
       "    <tr>\n",
       "      <th>5</th>\n",
       "      <td>50</td>\n",
       "      <td>4</td>\n",
       "      <td>2</td>\n",
       "      <td>more layers</td>\n",
       "      <td>19</td>\n",
       "      <td>0.96</td>\n",
       "      <td>0.10</td>\n",
       "      <td>0.90</td>\n",
       "      <td>0.40</td>\n",
       "      <td>1:51</td>\n",
       "    </tr>\n",
       "  </tbody>\n",
       "</table>\n",
       "</div>"
      ],
      "text/plain": [
       "  img_size num_conv_layers num_dense_layers             extras epochs   acc  \\\n",
       "0       40               3                1               None     30  0.97   \n",
       "1       40               3                2          callbacks     20  0.87   \n",
       "2       40               4                2             l2 reg     30  0.87   \n",
       "3       40               5                2            dropout     20  0.90   \n",
       "4       50               3                1  increase img size     13  0.93   \n",
       "5       50               4                2        more layers     19  0.96   \n",
       "\n",
       "   loss  val_acc  val_loss  time  \n",
       "0  0.08     0.86      0.72    28  \n",
       "1  0.40     0.84      0.49    26  \n",
       "2  0.40     0.84      0.48    36  \n",
       "3  0.29     0.86      0.48  1:29  \n",
       "4  0.20     0.90      0.33    50  \n",
       "5  0.10     0.90      0.40  1:51  "
      ]
     },
     "execution_count": 74,
     "metadata": {},
     "output_type": "execute_result"
    }
   ],
   "source": [
    "model_6_results = [50, 4, 2, 'more layers', 19, 0.96, 0.1, 0.90, 0.4, '1:51']\n",
    "append_df(df, 5, model_6_results)"
   ]
  },
  {
   "cell_type": "markdown",
   "metadata": {},
   "source": [
    "#### Train & Test Metrics"
   ]
  },
  {
   "cell_type": "code",
   "execution_count": 71,
   "metadata": {},
   "outputs": [
    {
     "name": "stdout",
     "output_type": "stream",
     "text": [
      "75244/75244 [==============================] - 103s 1ms/step\n",
      "Training loss: 0.138779150518756\n",
      "75244/75244 [==============================] - 100s 1ms/step\n",
      "Training accuracy: 0.9592259847929613\n",
      "8361/8361 [==============================] - 11s 1ms/step\n",
      "Test loss: 0.41002111081486187\n",
      "8361/8361 [==============================] - 11s 1ms/step\n",
      "Test accuracy: 0.9010883865708897\n"
     ]
    }
   ],
   "source": [
    "print_metrics(model_6, X_train, y_train, X_test, y_test)"
   ]
  },
  {
   "cell_type": "markdown",
   "metadata": {},
   "source": [
    "#### Accuracy & Loss vs. Epochs"
   ]
  },
  {
   "cell_type": "code",
   "execution_count": 72,
   "metadata": {},
   "outputs": [
    {
     "data": {
      "image/png": "[encoded data removed]",
      "text/plain": [
       "<Figure size 576x432 with 1 Axes>"
      ]
     },
     "metadata": {
      "needs_background": "light"
     },
     "output_type": "display_data"
    }
   ],
   "source": [
    "plot_acc_and_val(history_6)"
   ]
  },
  {
   "cell_type": "markdown",
   "metadata": {},
   "source": [
    "#### Model 6 Observations\n",
    "Adding layers improved training accuracy and reduced training loss, but there was no improvement in validation accuracy or loss. Validation loss actually increased, indicating overfitting. Reducing the dropout percentage and adjusting the callbacks to continue training when it probably should've stopped most likely led to the overfitting. Keeping the basic architecture of the model the same, while reverting back to a 0.5 dropout and the original callback parameters would show if these attributes were responsible for the overfitting. "
   ]
  },
  {
   "cell_type": "code",
   "execution_count": 70,
   "metadata": {},
   "outputs": [],
   "source": [
    "model_6.save('Models/model_6_moar_layerz.h5')"
   ]
  },
  {
   "cell_type": "markdown",
   "metadata": {},
   "source": [
    "#### Reverse one-hot encoding\n",
    "Revert y-values to the the original integers corresponding to class indices in order to evaluate predictions."
   ]
  },
  {
   "cell_type": "code",
   "execution_count": 75,
   "metadata": {},
   "outputs": [],
   "source": [
    "y_pred = model_6.predict(X_test)"
   ]
  },
  {
   "cell_type": "code",
   "execution_count": 81,
   "metadata": {},
   "outputs": [
    {
     "name": "stdout",
     "output_type": "stream",
     "text": [
      "[[7.2729070e-18 1.0000000e+00 2.9092839e-12 3.2552062e-08]\n",
      " [2.5271588e-06 9.9717772e-01 3.2787386e-05 2.7870035e-03]\n",
      " [5.2496420e-25 1.0000000e+00 9.1013899e-23 8.4577748e-15]]\n",
      "[[0. 1. 0. 0.]\n",
      " [0. 0. 0. 1.]\n",
      " [0. 1. 0. 0.]]\n"
     ]
    }
   ],
   "source": [
    "# just to check that I am using this correctly\n",
    "sample_y_preds = y_pred[:3]\n",
    "sample_y_test = y_test[:3]\n",
    "print(sample_y_preds)\n",
    "print(sample_y_test)"
   ]
  },
  {
   "cell_type": "code",
   "execution_count": 83,
   "metadata": {},
   "outputs": [],
   "source": [
    "y_pred_reverse = [np.argmax(y, axis=None, out=None) for y in sample_y_preds]\n",
    "y_test_reverse = [np.argmax(y, axis=None, out=None) for y in sample_y_test]"
   ]
  },
  {
   "cell_type": "code",
   "execution_count": 84,
   "metadata": {},
   "outputs": [
    {
     "name": "stdout",
     "output_type": "stream",
     "text": [
      "[1, 1, 1]\n",
      "[1, 3, 1]\n"
     ]
    }
   ],
   "source": [
    "print(y_pred_reverse)\n",
    "print(y_test_reverse)"
   ]
  },
  {
   "cell_type": "code",
   "execution_count": 85,
   "metadata": {},
   "outputs": [],
   "source": [
    "y_preds_reversed = [np.argmax(y, axis=None, out=None) for y in y_pred]\n",
    "y_true_reversed = [np.argmax(y, axis=None, out=None) for y in y_test]"
   ]
  },
  {
   "cell_type": "markdown",
   "metadata": {},
   "source": [
    "#### Confusion Matrix"
   ]
  },
  {
   "cell_type": "code",
   "execution_count": 94,
   "metadata": {},
   "outputs": [
    {
     "data": {
      "text/plain": [
       "array([[2507,   29,  105,   76],\n",
       "       [  24, 3535,   31,   70],\n",
       "       [  75,   79,  957,   16],\n",
       "       [ 169,  132,   21,  535]])"
      ]
     },
     "execution_count": 94,
     "metadata": {},
     "output_type": "execute_result"
    }
   ],
   "source": [
    "cm = confusion_matrix(y_true_reversed, y_preds_reversed)\n",
    "cm"
   ]
  },
  {
   "cell_type": "code",
   "execution_count": 96,
   "metadata": {},
   "outputs": [],
   "source": [
    "class_names = ['normal', 'cnv', 'dme', 'drusen']"
   ]
  },
  {
   "cell_type": "code",
   "execution_count": 97,
   "metadata": {},
   "outputs": [
    {
     "data": {
      "text/html": [
       "<div>\n",
       "<style scoped>\n",
       "    .dataframe tbody tr th:only-of-type {\n",
       "        vertical-align: middle;\n",
       "    }\n",
       "\n",
       "    .dataframe tbody tr th {\n",
       "        vertical-align: top;\n",
       "    }\n",
       "\n",
       "    .dataframe thead th {\n",
       "        text-align: right;\n",
       "    }\n",
       "</style>\n",
       "<table border=\"1\" class=\"dataframe\">\n",
       "  <thead>\n",
       "    <tr style=\"text-align: right;\">\n",
       "      <th></th>\n",
       "      <th>normal</th>\n",
       "      <th>cnv</th>\n",
       "      <th>dme</th>\n",
       "      <th>drusen</th>\n",
       "    </tr>\n",
       "  </thead>\n",
       "  <tbody>\n",
       "    <tr>\n",
       "      <th>normal</th>\n",
       "      <td>2507</td>\n",
       "      <td>29</td>\n",
       "      <td>105</td>\n",
       "      <td>76</td>\n",
       "    </tr>\n",
       "    <tr>\n",
       "      <th>cnv</th>\n",
       "      <td>24</td>\n",
       "      <td>3535</td>\n",
       "      <td>31</td>\n",
       "      <td>70</td>\n",
       "    </tr>\n",
       "    <tr>\n",
       "      <th>dme</th>\n",
       "      <td>75</td>\n",
       "      <td>79</td>\n",
       "      <td>957</td>\n",
       "      <td>16</td>\n",
       "    </tr>\n",
       "    <tr>\n",
       "      <th>drusen</th>\n",
       "      <td>169</td>\n",
       "      <td>132</td>\n",
       "      <td>21</td>\n",
       "      <td>535</td>\n",
       "    </tr>\n",
       "  </tbody>\n",
       "</table>\n",
       "</div>"
      ],
      "text/plain": [
       "        normal   cnv  dme  drusen\n",
       "normal    2507    29  105      76\n",
       "cnv         24  3535   31      70\n",
       "dme         75    79  957      16\n",
       "drusen     169   132   21     535"
      ]
     },
     "execution_count": 97,
     "metadata": {},
     "output_type": "execute_result"
    }
   ],
   "source": [
    "df_cm = pd.DataFrame(cm, index=class_names, columns=class_names)\n",
    "df_cm"
   ]
  },
  {
   "cell_type": "code",
   "execution_count": 100,
   "metadata": {},
   "outputs": [
    {
     "data": {
      "image/png": "[encoded data removed]",
      "text/plain": [
       "<Figure size 576x432 with 2 Axes>"
      ]
     },
     "metadata": {
      "needs_background": "light"
     },
     "output_type": "display_data"
    }
   ],
   "source": [
    "fig = plt.figure(figsize=(8,6))\n",
    "hm = sns.heatmap(data=df_cm, annot=True, cbar=True, cmap='YlGnBu', linewidths=0.5, fmt='d')\n",
    "hm.yaxis.set_ticklabels(hm.yaxis.get_ticklabels(), rotation=0)\n",
    "hm.xaxis.set_ticklabels(hm.xaxis.get_ticklabels(), rotation=45)\n",
    "plt.ylabel('True Labels')\n",
    "plt.xlabel('Predicted Labels')\n",
    "plt.show()"
   ]
  },
  {
   "cell_type": "markdown",
   "metadata": {},
   "source": [
    "#### Confusion Matrix Observations\n",
    "The confusion matrix reflects the number of samples in each class. The model is able to predict CNV images the best because that class had the most data. Conversely, the model performed poorly on Drusen images because that class had the smallest amount of data samples, reducing its ability to learn how to predict this class. "
   ]
  },
  {
   "cell_type": "markdown",
   "metadata": {},
   "source": [
    "### Model 7\n",
    "* Goal: reduce overfitting seen in the previous model\n",
    "* Revert patience values on callbacks\n",
    "* Increase dropout values to 0.5\n",
    "* Decrease epochs"
   ]
  },
  {
   "cell_type": "markdown",
   "metadata": {},
   "source": [
    "#### Adjust Callback Parameters\n",
    "Revert to earlier patience values to reduce overfitting."
   ]
  },
  {
   "cell_type": "code",
   "execution_count": 101,
   "metadata": {},
   "outputs": [],
   "source": [
    "reduce_lr = ReduceLROnPlateau(monitor='val_loss', \n",
    "                              factor=0.2,\n",
    "                              patience=5, \n",
    "                              min_lr=0.001,\n",
    "                              verbose=1)\n",
    "\n",
    "early_stoppage = EarlyStopping(monitor='val_loss', \n",
    "                               min_delta=0, \n",
    "                               patience=7, \n",
    "                               verbose=1)"
   ]
  },
  {
   "cell_type": "code",
   "execution_count": 102,
   "metadata": {},
   "outputs": [],
   "source": [
    "model_7 = Sequential()\n",
    "model_7.add(Conv2D(64, (3,3), \n",
    "                  input_shape=X.shape[1:], \n",
    "                  activation='relu',\n",
    "                  padding='same'))\n",
    "model_7.add(MaxPooling2D(2,2))\n",
    "\n",
    "model_7.add(Conv2D(64, (4,4), activation='relu', padding='same'))\n",
    "model_7.add(MaxPooling2D(2,2))\n",
    "\n",
    "model_7.add(Conv2D(128, (3,3), activation='relu', padding='same'))\n",
    "model_7.add(MaxPooling2D(2,2))\n",
    "\n",
    "model_7.add(Conv2D(256, (3,3), activation='relu', padding='same'))\n",
    "model_7.add(MaxPooling2D(2,2))\n",
    "\n",
    "model_7.add(Flatten())\n",
    "model_7.add(Dense(64, activation='relu'))\n",
    "model_7.add(Dropout(0.5))\n",
    "model_7.add(Dense(64, activation='relu'))\n",
    "model_7.add(Dropout(0.5))\n",
    "model_7.add(Dense(4, activation='softmax'))"
   ]
  },
  {
   "cell_type": "code",
   "execution_count": 103,
   "metadata": {},
   "outputs": [],
   "source": [
    "model_7.compile(loss='categorical_crossentropy', optimizer='adam', metrics=['acc'])"
   ]
  },
  {
   "cell_type": "code",
   "execution_count": 104,
   "metadata": {},
   "outputs": [
    {
     "name": "stdout",
     "output_type": "stream",
     "text": [
      "Train on 60195 samples, validate on 15049 samples\n",
      "Epoch 1/20\n",
      "60195/60195 [==============================] - 342s 6ms/step - loss: 0.7953 - acc: 0.6972 - val_loss: 0.6687 - val_acc: 0.7545\n",
      "Epoch 2/20\n",
      "60195/60195 [==============================] - 350s 6ms/step - loss: 0.5942 - acc: 0.7925 - val_loss: 0.4683 - val_acc: 0.8239\n",
      "Epoch 3/20\n",
      "60195/60195 [==============================] - 341s 6ms/step - loss: 0.4759 - acc: 0.8380 - val_loss: 0.3847 - val_acc: 0.8634\n",
      "Epoch 4/20\n",
      "60195/60195 [==============================] - 337s 6ms/step - loss: 0.4119 - acc: 0.8601 - val_loss: 0.3435 - val_acc: 0.8819\n",
      "Epoch 5/20\n",
      "60195/60195 [==============================] - 342s 6ms/step - loss: 0.3725 - acc: 0.8760 - val_loss: 0.3305 - val_acc: 0.8858\n",
      "Epoch 6/20\n",
      "60195/60195 [==============================] - 352s 6ms/step - loss: 0.3452 - acc: 0.8854 - val_loss: 0.3522 - val_acc: 0.8772\n",
      "Epoch 7/20\n",
      "60195/60195 [==============================] - 343s 6ms/step - loss: 0.3218 - acc: 0.8931 - val_loss: 0.3264 - val_acc: 0.8868\n",
      "Epoch 8/20\n",
      "60195/60195 [==============================] - 340s 6ms/step - loss: 0.2986 - acc: 0.9011 - val_loss: 0.3225 - val_acc: 0.8913\n",
      "Epoch 9/20\n",
      "60195/60195 [==============================] - 340s 6ms/step - loss: 0.2856 - acc: 0.9027 - val_loss: 0.3121 - val_acc: 0.8937\n",
      "Epoch 10/20\n",
      "60195/60195 [==============================] - 344s 6ms/step - loss: 0.2691 - acc: 0.9113 - val_loss: 0.3151 - val_acc: 0.8911\n",
      "Epoch 11/20\n",
      "60195/60195 [==============================] - 349s 6ms/step - loss: 0.2599 - acc: 0.9132 - val_loss: 0.3127 - val_acc: 0.8949\n",
      "Epoch 12/20\n",
      "60195/60195 [==============================] - 353s 6ms/step - loss: 0.2408 - acc: 0.9188 - val_loss: 0.3479 - val_acc: 0.8873\n",
      "Epoch 13/20\n",
      "60195/60195 [==============================] - 321s 5ms/step - loss: 0.2341 - acc: 0.9208 - val_loss: 0.3186 - val_acc: 0.8938\n",
      "Epoch 14/20\n",
      "60195/60195 [==============================] - 343s 6ms/step - loss: 0.2214 - acc: 0.9258 - val_loss: 0.3012 - val_acc: 0.9021\n",
      "Epoch 15/20\n",
      "60195/60195 [==============================] - 338s 6ms/step - loss: 0.2104 - acc: 0.9286 - val_loss: 0.3311 - val_acc: 0.8957\n",
      "Epoch 16/20\n",
      "60195/60195 [==============================] - 353s 6ms/step - loss: 0.1999 - acc: 0.9325 - val_loss: 0.3462 - val_acc: 0.8960\n",
      "Epoch 17/20\n",
      "60195/60195 [==============================] - 350s 6ms/step - loss: 0.1918 - acc: 0.9349 - val_loss: 0.3297 - val_acc: 0.8922\n",
      "Epoch 18/20\n",
      "60195/60195 [==============================] - 382s 6ms/step - loss: 0.1834 - acc: 0.9379 - val_loss: 0.3424 - val_acc: 0.8944\n",
      "Epoch 19/20\n",
      "60195/60195 [==============================] - 363s 6ms/step - loss: 0.1765 - acc: 0.9398 - val_loss: 0.3656 - val_acc: 0.8991\n",
      "\n",
      "Epoch 00019: ReduceLROnPlateau reducing learning rate to 0.001.\n",
      "Epoch 20/20\n",
      "60195/60195 [==============================] - 354s 6ms/step - loss: 0.1723 - acc: 0.9407 - val_loss: 0.3459 - val_acc: 0.8981\n",
      "Total time elapsed: 1:55:37.928846\n"
     ]
    }
   ],
   "source": [
    "start = datetime.datetime.now()\n",
    "\n",
    "history_7 = model_7.fit(X_train, y_train,\n",
    "                     callbacks=[reduce_lr, early_stoppage],\n",
    "                     batch_size=32,\n",
    "                     epochs=20,\n",
    "                     validation_split=0.2)\n",
    "\n",
    "elapsed = datetime.datetime.now() - start\n",
    "print(f'Total time elapsed: {elapsed}')"
   ]
  },
  {
   "cell_type": "markdown",
   "metadata": {},
   "source": [
    "#### Train & Test Metrics"
   ]
  },
  {
   "cell_type": "code",
   "execution_count": 106,
   "metadata": {},
   "outputs": [
    {
     "name": "stdout",
     "output_type": "stream",
     "text": [
      "75244/75244 [==============================] - 113s 1ms/step\n",
      "Training loss: 0.16527045492870432\n",
      "75244/75244 [==============================] - 112s 1ms/step\n",
      "Training accuracy: 0.9427462654797935\n",
      "8361/8361 [==============================] - 13s 2ms/step\n",
      "Test loss: 0.36724562323303006\n",
      "8361/8361 [==============================] - 12s 1ms/step\n",
      "Test accuracy: 0.8936730056355949\n"
     ]
    }
   ],
   "source": [
    "print_metrics(model_7, X_train, y_train, X_test, y_test)"
   ]
  },
  {
   "cell_type": "markdown",
   "metadata": {},
   "source": [
    "#### Accuracy & Loss vs. Epochs"
   ]
  },
  {
   "cell_type": "code",
   "execution_count": 109,
   "metadata": {},
   "outputs": [
    {
     "data": {
      "image/png": "[encoded data removed]",
      "text/plain": [
       "<Figure size 576x432 with 1 Axes>"
      ]
     },
     "metadata": {
      "needs_background": "light"
     },
     "output_type": "display_data"
    }
   ],
   "source": [
    "plot_acc_and_val(history_7)"
   ]
  },
  {
   "cell_type": "markdown",
   "metadata": {},
   "source": [
    "After 10 epochs, training and validation loss diverge (though not as much as in Model 6), but training and validation accuracy are similar in this model."
   ]
  },
  {
   "cell_type": "markdown",
   "metadata": {},
   "source": [
    "#### Confusion Matrix"
   ]
  },
  {
   "cell_type": "code",
   "execution_count": 112,
   "metadata": {},
   "outputs": [
    {
     "data": {
      "image/png": "[encoded data removed]",
      "text/plain": [
       "<Figure size 576x432 with 2 Axes>"
      ]
     },
     "metadata": {
      "needs_background": "light"
     },
     "output_type": "display_data"
    }
   ],
   "source": [
    "y_preds = model_7.predict(X_test)\n",
    "\n",
    "# run confusion matrix function first\n",
    "plot_confusion_matrix(y_test, y_preds)"
   ]
  },
  {
   "cell_type": "markdown",
   "metadata": {},
   "source": [
    "Like the previous confusion matrix, class size in Model 7 also seems to have the biggest influence on true positives."
   ]
  },
  {
   "cell_type": "markdown",
   "metadata": {},
   "source": [
    "#### Precision Rates by Class"
   ]
  },
  {
   "cell_type": "code",
   "execution_count": 13,
   "metadata": {},
   "outputs": [
    {
     "data": {
      "image/png": "[encoded data removed]",
      "text/plain": [
       "<Figure size 432x288 with 1 Axes>"
      ]
     },
     "metadata": {},
     "output_type": "display_data"
    }
   ],
   "source": [
    "# precision rates calculated by class - TP / (TP + FP)\n",
    "\n",
    "fig = plt.figure()\n",
    "fig.patch.set_facecolor('white')\n",
    "x = np.arange(4)\n",
    "labels = ['Drusen 42%', 'DME 86%', 'Normal 95%', 'CNV 93%']\n",
    "amounts = [drusen_precision, dme_precision, normal_precision, cnv_precision]\n",
    "\n",
    "plt.bar(x, amounts, align='center', color='#B1A8D2')\n",
    "plt.ylim([0, 100])\n",
    "plt.xticks(x, labels)\n",
    "plt.title('Precision Rates by Class')\n",
    "plt.show()"
   ]
  },
  {
   "cell_type": "code",
   "execution_count": 105,
   "metadata": {},
   "outputs": [],
   "source": [
    "model_7.save('Models/model_7_more_dropout.h5')"
   ]
  },
  {
   "cell_type": "markdown",
   "metadata": {},
   "source": [
    "#### Comparison to Past Models"
   ]
  },
  {
   "cell_type": "code",
   "execution_count": 114,
   "metadata": {},
   "outputs": [
    {
     "data": {
      "text/html": [
       "<div>\n",
       "<style scoped>\n",
       "    .dataframe tbody tr th:only-of-type {\n",
       "        vertical-align: middle;\n",
       "    }\n",
       "\n",
       "    .dataframe tbody tr th {\n",
       "        vertical-align: top;\n",
       "    }\n",
       "\n",
       "    .dataframe thead th {\n",
       "        text-align: right;\n",
       "    }\n",
       "</style>\n",
       "<table border=\"1\" class=\"dataframe\">\n",
       "  <thead>\n",
       "    <tr style=\"text-align: right;\">\n",
       "      <th></th>\n",
       "      <th>img_size</th>\n",
       "      <th>num_conv_layers</th>\n",
       "      <th>num_dense_layers</th>\n",
       "      <th>extras</th>\n",
       "      <th>epochs</th>\n",
       "      <th>acc</th>\n",
       "      <th>loss</th>\n",
       "      <th>val_acc</th>\n",
       "      <th>val_loss</th>\n",
       "      <th>time</th>\n",
       "    </tr>\n",
       "  </thead>\n",
       "  <tbody>\n",
       "    <tr>\n",
       "      <th>0</th>\n",
       "      <td>40</td>\n",
       "      <td>3</td>\n",
       "      <td>1</td>\n",
       "      <td>None</td>\n",
       "      <td>30</td>\n",
       "      <td>0.97</td>\n",
       "      <td>0.08</td>\n",
       "      <td>0.86</td>\n",
       "      <td>0.72</td>\n",
       "      <td>28</td>\n",
       "    </tr>\n",
       "    <tr>\n",
       "      <th>1</th>\n",
       "      <td>40</td>\n",
       "      <td>3</td>\n",
       "      <td>2</td>\n",
       "      <td>callbacks</td>\n",
       "      <td>20</td>\n",
       "      <td>0.87</td>\n",
       "      <td>0.40</td>\n",
       "      <td>0.84</td>\n",
       "      <td>0.49</td>\n",
       "      <td>26</td>\n",
       "    </tr>\n",
       "    <tr>\n",
       "      <th>2</th>\n",
       "      <td>40</td>\n",
       "      <td>4</td>\n",
       "      <td>2</td>\n",
       "      <td>l2 reg</td>\n",
       "      <td>30</td>\n",
       "      <td>0.87</td>\n",
       "      <td>0.40</td>\n",
       "      <td>0.84</td>\n",
       "      <td>0.48</td>\n",
       "      <td>36</td>\n",
       "    </tr>\n",
       "    <tr>\n",
       "      <th>3</th>\n",
       "      <td>40</td>\n",
       "      <td>5</td>\n",
       "      <td>2</td>\n",
       "      <td>dropout</td>\n",
       "      <td>20</td>\n",
       "      <td>0.90</td>\n",
       "      <td>0.29</td>\n",
       "      <td>0.86</td>\n",
       "      <td>0.48</td>\n",
       "      <td>1:29</td>\n",
       "    </tr>\n",
       "    <tr>\n",
       "      <th>4</th>\n",
       "      <td>50</td>\n",
       "      <td>3</td>\n",
       "      <td>1</td>\n",
       "      <td>increase img size</td>\n",
       "      <td>13</td>\n",
       "      <td>0.93</td>\n",
       "      <td>0.20</td>\n",
       "      <td>0.90</td>\n",
       "      <td>0.33</td>\n",
       "      <td>50</td>\n",
       "    </tr>\n",
       "    <tr>\n",
       "      <th>5</th>\n",
       "      <td>50</td>\n",
       "      <td>4</td>\n",
       "      <td>2</td>\n",
       "      <td>more layers</td>\n",
       "      <td>19</td>\n",
       "      <td>0.96</td>\n",
       "      <td>0.10</td>\n",
       "      <td>0.90</td>\n",
       "      <td>0.40</td>\n",
       "      <td>1:51</td>\n",
       "    </tr>\n",
       "    <tr>\n",
       "      <th>6</th>\n",
       "      <td>50</td>\n",
       "      <td>4</td>\n",
       "      <td>2</td>\n",
       "      <td>more dropout</td>\n",
       "      <td>20</td>\n",
       "      <td>0.94</td>\n",
       "      <td>0.17</td>\n",
       "      <td>0.90</td>\n",
       "      <td>0.35</td>\n",
       "      <td>1:55</td>\n",
       "    </tr>\n",
       "  </tbody>\n",
       "</table>\n",
       "</div>"
      ],
      "text/plain": [
       "  img_size num_conv_layers num_dense_layers             extras epochs   acc  \\\n",
       "0       40               3                1               None     30  0.97   \n",
       "1       40               3                2          callbacks     20  0.87   \n",
       "2       40               4                2             l2 reg     30  0.87   \n",
       "3       40               5                2            dropout     20  0.90   \n",
       "4       50               3                1  increase img size     13  0.93   \n",
       "5       50               4                2        more layers     19  0.96   \n",
       "6       50               4                2       more dropout     20  0.94   \n",
       "\n",
       "   loss  val_acc  val_loss  time  \n",
       "0  0.08     0.86      0.72    28  \n",
       "1  0.40     0.84      0.49    26  \n",
       "2  0.40     0.84      0.48    36  \n",
       "3  0.29     0.86      0.48  1:29  \n",
       "4  0.20     0.90      0.33    50  \n",
       "5  0.10     0.90      0.40  1:51  \n",
       "6  0.17     0.90      0.35  1:55  "
      ]
     },
     "execution_count": 114,
     "metadata": {},
     "output_type": "execute_result"
    }
   ],
   "source": [
    "model_7_results = [50, 4, 2, 'more dropout', 20, 0.94, 0.17, 0.90, 0.35, '1:55']\n",
    "append_df(df, 6, model_7_results)"
   ]
  },
  {
   "cell_type": "markdown",
   "metadata": {},
   "source": [
    "#### Model 7 Observations"
   ]
  },
  {
   "cell_type": "markdown",
   "metadata": {},
   "source": [
    "Model 7 shows a better fit when comparing training and validation data. The testing scores were slightly better than in Model 6, but because the test set is so small, the difference could be random. The increased dropout probably helped the fit and also allowed the model to train for more epochs before early stopping. Training for more than 20 epochs would probably increase the training accuracy but might also lead to more overfitting. Model 6 tested slightly better on (the smallest class) Drusen samples, but worse on DME samples - not much of a difference so could also be random. "
   ]
  },
  {
   "cell_type": "markdown",
   "metadata": {},
   "source": [
    "## V. Conclusions & Recommendations"
   ]
  },
  {
   "cell_type": "markdown",
   "metadata": {},
   "source": [
    "All of the models had good accuracy scores between 87-97% for training data and 84-90% for validation data. The later models (Model 5 and beyond) had similar test accuracy scores around 90% which was an improvement over earlier models. Model 5 was also the first model to train on larger training and validation sets due to decreasing the holdout test size to 10% of the overall data. As usual, more data leads to better model performance. This is especially apparent in the Confusion Matrices, which clearly show that the model can more accurately identify CNV images - which was the class with the largest amount of samples. The models performed poorly on identifying Drusen images mostly likely because this was the smallest class. Balanced classes with more images could greatly improve model performance."
   ]
  },
  {
   "cell_type": "markdown",
   "metadata": {},
   "source": [
    "### Recommendations to Improve Model \n",
    "* More data for each class, or at the very least - more data for the smaller classes of Drusen and DME\n",
    "* Balanced classes\n",
    "* More information on disease progression and when the images were taken\n",
    "    * Were the images of the non-normal classes taken in the early or late stages of disease?\n",
    "    * If the non-normal class images were all taken in the later stages when changes are more prominent, the model will not perform well when introduced to early-stage non-normal images\n",
    "    * The model would need images from a wide range of disease progression if it is to catch problems early\n",
    "* The addition of patient information\n",
    "* With enough computational resources, larger colored images could possibly be used successfully with available pre-trained models"
   ]
  },
  {
   "cell_type": "markdown",
   "metadata": {},
   "source": [
    "### Recommendations to Improve Diagnosis & Patient Care with Model\n",
    "* Additional data for each patient\n",
    "    * Family history of retinal disease\n",
    "    * Family history of medical problems that can lead to retinal disease (i.e. Diabetes, Metabolic Syndrome)\n",
    "    * Patient's age, ethnicity, gender, and other medical history and demographics \n",
    "        * Risk of Macular Degeneration and Glaucoma increases with age\n",
    "        * Caucasians have a higher risk of Macular Degeneration\n",
    "        * African Americans, American Indians, and Mexican Americans have a higher risk of Diabetes\n",
    "* Overall Risk Factor Score that takes additional patient information into account\n",
    "    * An image that the model classifies as DME - or could possibly be DME - would appear to the clinician as having different risk levels when combined with other factors"
   ]
  },
  {
   "cell_type": "code",
   "execution_count": null,
   "metadata": {},
   "outputs": [],
   "source": []
  },
  {
   "cell_type": "markdown",
   "metadata": {},
   "source": [
    "## Risk Factor Score\n",
    "Use `predict_proba` to classify different levels of Risk - to be used in conjunction with other patient risk factors"
   ]
  },
  {
   "cell_type": "markdown",
   "metadata": {},
   "source": [
    "#### Load final model to make predictions"
   ]
  },
  {
   "cell_type": "code",
   "execution_count": 14,
   "metadata": {},
   "outputs": [],
   "source": [
    "final_model = load_model('Models/model_7_more_dropout.h5')"
   ]
  },
  {
   "cell_type": "code",
   "execution_count": 15,
   "metadata": {},
   "outputs": [],
   "source": [
    "y_test_proba = final_model.predict_proba(X_test)"
   ]
  },
  {
   "cell_type": "code",
   "execution_count": 31,
   "metadata": {},
   "outputs": [
    {
     "data": {
      "text/plain": [
       "(8361, 4)"
      ]
     },
     "execution_count": 31,
     "metadata": {},
     "output_type": "execute_result"
    }
   ],
   "source": [
    "y_test_proba.shape"
   ]
  },
  {
   "cell_type": "markdown",
   "metadata": {},
   "source": [
    "#### Scale prediction values"
   ]
  },
  {
   "cell_type": "code",
   "execution_count": 16,
   "metadata": {},
   "outputs": [],
   "source": [
    "# would like to see a probability score that I can actually make sense of \n",
    "# (I know that np.interp doesn't stand for interpretation)\n",
    "interpretable_y_test_proba = np.interp(y_test_proba, (y_test_proba.min(), y_test_proba.max()), (0.1, 1.0))"
   ]
  },
  {
   "cell_type": "code",
   "execution_count": 17,
   "metadata": {},
   "outputs": [
    {
     "data": {
      "text/plain": [
       "array([0.31673359, 0.10133523, 0.77652446, 0.10540675])"
      ]
     },
     "execution_count": 17,
     "metadata": {},
     "output_type": "execute_result"
    }
   ],
   "source": [
    "interpretable_y_test_proba[251]"
   ]
  },
  {
   "cell_type": "code",
   "execution_count": 60,
   "metadata": {},
   "outputs": [],
   "source": [
    "# for reference\n",
    "class_names = ['normal', 'cnv', 'dme', 'drusen']"
   ]
  },
  {
   "cell_type": "markdown",
   "metadata": {
    "heading_collapsed": true
   },
   "source": [
    "#### Figure out how this works"
   ]
  },
  {
   "cell_type": "code",
   "execution_count": 21,
   "metadata": {
    "hidden": true
   },
   "outputs": [
    {
     "name": "stdout",
     "output_type": "stream",
     "text": [
      "High risk of class 1 at index 0\n"
     ]
    }
   ],
   "source": [
    "for i, arry in enumerate(interpretable_y_test_proba[:1]):\n",
    "    for j, probs in enumerate(arry):\n",
    "        if probs > 0.5:\n",
    "            print(f'High risk of class {j} at index {i}')"
   ]
  },
  {
   "cell_type": "code",
   "execution_count": 24,
   "metadata": {
    "hidden": true
   },
   "outputs": [
    {
     "name": "stdout",
     "output_type": "stream",
     "text": [
      "High risk of class 1 at index 0\n",
      "High risk of class 3 at index 1\n",
      "High risk of class 1 at index 2\n"
     ]
    }
   ],
   "source": [
    "# filter out class 0's since those are normal\n",
    "\n",
    "for i, arry in enumerate(interpretable_y_test_proba[:5]):\n",
    "    for j, probs in enumerate(arry):\n",
    "        if j!= 0:\n",
    "            if probs > 0.5:\n",
    "                print(f'High risk of class {j} at index {i}')"
   ]
  },
  {
   "cell_type": "code",
   "execution_count": 26,
   "metadata": {
    "hidden": true
   },
   "outputs": [
    {
     "name": "stdout",
     "output_type": "stream",
     "text": [
      "High risk of CNV at index 0\n",
      "Medium risk of CNV at index 1\n",
      "High risk of CNV at index 2\n",
      "Low risk of CNV at index 3\n",
      "Low risk of CNV at index 4\n"
     ]
    }
   ],
   "source": [
    "# identify classes!\n",
    "\n",
    "for i, arry in enumerate(interpretable_y_test_proba[:5]):\n",
    "    for j, probs in enumerate(arry):\n",
    "        if j == 1:\n",
    "            if probs < 0.3:\n",
    "                print(f'Low risk of CNV at index {i}')\n",
    "            elif probs > 0.31 and probs < 0.6:\n",
    "                print(f'Medium risk of CNV at index {i}')\n",
    "            else:\n",
    "                print(f'High risk of CNV at index {i}')"
   ]
  },
  {
   "cell_type": "markdown",
   "metadata": {},
   "source": [
    "#### Classify every probability score into low, medium, or high risk for CNV, DME, and Drusen\n",
    "This would need to be a function but would also eventually need to be a function that can communicate with a SQL Database and then ideally with a dashboard. The cell below already has 9 lists which would easily and immediately become difficult to organize due to accidentally replacing existing lists or having to add weird strings to list names and then would end up as a bunch of weirdly-named lists with no organization at all. The risk factor data contained in this notebook alone could be organized better with a dictionary, but the idea of the Risk Factor Score is to combine it with sources of other patient information (with patient ids)."
   ]
  },
  {
   "cell_type": "code",
   "execution_count": 32,
   "metadata": {},
   "outputs": [],
   "source": [
    "low_risk_cnv = []\n",
    "medium_risk_cnv = []\n",
    "high_risk_cnv = []\n",
    "\n",
    "low_risk_dme = []\n",
    "medium_risk_dme = []\n",
    "high_risk_dme = []\n",
    "\n",
    "low_risk_drusen = []\n",
    "medium_risk_drusen = []\n",
    "high_risk_drusen = []\n",
    "\n",
    "\n",
    "for i, arry in enumerate(interpretable_y_test_proba):\n",
    "    for j, probs in enumerate(arry):\n",
    "        \n",
    "        if j == 1:\n",
    "            if probs < 0.3:\n",
    "                # print(f'Low risk of CNV at index {i}')\n",
    "                low_risk_cnv.append(i)\n",
    "            elif probs > 0.31 and probs < 0.6:\n",
    "                # print(f'Medium risk of CNV at index {i}')\n",
    "                medium_risk_cnv.append(i)\n",
    "            else:\n",
    "                # print(f'High risk of CNV at index {i}')\n",
    "                high_risk_cnv.append(i)\n",
    "                \n",
    "        elif j == 2:\n",
    "            if probs < 0.3:\n",
    "                # print(f'Low risk of DME at index {i}')\n",
    "                low_risk_dme.append(i)\n",
    "            elif probs > 0.31 and probs < 0.6:\n",
    "                # print(f'Medium risk of DME at index {i}')\n",
    "                medium_risk_dme.append(i)\n",
    "            else:\n",
    "                # print(f'High risk of DME at index {i}')\n",
    "                high_risk_dme.append(i)\n",
    "                \n",
    "        elif j == 3:\n",
    "            if probs < 0.3:\n",
    "                # print(f'Low risk of Drusen at index {i}')\n",
    "                low_risk_drusen.append(i)\n",
    "            elif probs > 0.31 and probs < 0.6:\n",
    "                # print(f'Medium risk of Drusen at index {i}')\n",
    "                medium_risk_drusen.append(i)\n",
    "            else:\n",
    "                # print(f'High risk of Drusen at index {i}')\n",
    "                high_risk_drusen.append(i)"
   ]
  },
  {
   "cell_type": "code",
   "execution_count": 34,
   "metadata": {},
   "outputs": [
    {
     "name": "stdout",
     "output_type": "stream",
     "text": [
      "Number of low risk DME scans: 7052\n",
      "Number of medium risk Drusen scans: 308\n",
      "Number of high risk CNV scans: 3513\n"
     ]
    }
   ],
   "source": [
    "print(f'Number of low risk DME scans: {len(low_risk_dme)}')\n",
    "print(f'Number of medium risk Drusen scans: {len(medium_risk_drusen)}')\n",
    "print(f'Number of high risk CNV scans: {len(high_risk_cnv)}')"
   ]
  },
  {
   "cell_type": "code",
   "execution_count": null,
   "metadata": {},
   "outputs": [],
   "source": []
  },
  {
   "cell_type": "code",
   "execution_count": null,
   "metadata": {},
   "outputs": [],
   "source": []
  },
  {
   "cell_type": "code",
   "execution_count": null,
   "metadata": {},
   "outputs": [],
   "source": []
  },
  {
   "cell_type": "code",
   "execution_count": null,
   "metadata": {},
   "outputs": [],
   "source": []
  },
  {
   "cell_type": "code",
   "execution_count": null,
   "metadata": {},
   "outputs": [],
   "source": []
  },
  {
   "cell_type": "code",
   "execution_count": null,
   "metadata": {},
   "outputs": [],
   "source": []
  },
  {
   "cell_type": "code",
   "execution_count": null,
   "metadata": {},
   "outputs": [],
   "source": []
  },
  {
   "cell_type": "code",
   "execution_count": null,
   "metadata": {},
   "outputs": [],
   "source": []
  },
  {
   "cell_type": "code",
   "execution_count": null,
   "metadata": {},
   "outputs": [],
   "source": []
  },
  {
   "cell_type": "code",
   "execution_count": null,
   "metadata": {},
   "outputs": [],
   "source": []
  },
  {
   "cell_type": "code",
   "execution_count": null,
   "metadata": {},
   "outputs": [],
   "source": []
  },
  {
   "cell_type": "markdown",
   "metadata": {},
   "source": [
    "## VI. Incriminating Evidence"
   ]
  },
  {
   "cell_type": "code",
   "execution_count": null,
   "metadata": {},
   "outputs": [],
   "source": [
    "# I hope this is still correct\n",
    "img_classes = ['normal', 'cnv', 'dme', 'drusen']"
   ]
  },
  {
   "cell_type": "code",
   "execution_count": 89,
   "metadata": {},
   "outputs": [
    {
     "name": "stdout",
     "output_type": "stream",
     "text": [
      "Number of cnv images: 37216\n",
      "Number of dme images: 11422\n",
      "Number of drusen images: 8620\n",
      "Number of normal images: 26348\n"
     ]
    }
   ],
   "source": [
    "# compare class sizes\n",
    "cnv_imgs = len(os.listdir('Data/cnv'))\n",
    "dme_imgs = len(os.listdir('Data/dme'))\n",
    "drusen_imgs = len(os.listdir('Data/drusen'))\n",
    "normal_imgs = len(os.listdir('Data/normal'))\n",
    "\n",
    "print(f'Number of cnv images: {cnv_imgs}')\n",
    "print(f'Number of dme images: {dme_imgs}')\n",
    "print(f'Number of drusen images: {drusen_imgs}')\n",
    "print(f'Number of normal images: {normal_imgs}')"
   ]
  },
  {
   "cell_type": "code",
   "execution_count": 88,
   "metadata": {},
   "outputs": [],
   "source": [
    "y_train_reversed = [np.argmax(y, axis=None, out=None) for y in y_train]"
   ]
  },
  {
   "cell_type": "code",
   "execution_count": 92,
   "metadata": {},
   "outputs": [
    {
     "name": "stdout",
     "output_type": "stream",
     "text": [
      "Counter({1: 33556, 0: 23630, 2: 10295, 3: 7763})\n",
      "Counter({1: 3660, 0: 2717, 2: 1127, 3: 857})\n"
     ]
    }
   ],
   "source": [
    "print(Counter(y_train_reversed))\n",
    "print(Counter(y_true_reversed))"
   ]
  },
  {
   "cell_type": "code",
   "execution_count": null,
   "metadata": {},
   "outputs": [],
   "source": [
    "# 0 = normal\n",
    "# 1 = cnv\n",
    "# 2 = dme\n",
    "# 3 = drusen\n",
    "# I know I'm a Neanderthal for counting these out, BUT I HAD TO BE SURE!!!!!!"
   ]
  },
  {
   "cell_type": "code",
   "execution_count": 7,
   "metadata": {},
   "outputs": [
    {
     "name": "stdout",
     "output_type": "stream",
     "text": [
      "Drusen acc: 93.0\n",
      "DME acc: 96.0\n",
      "Normal acc: 93.0\n",
      "CNV acc: 95.0\n",
      "\n",
      "Drusen precision: 42.0\n",
      "DME precision: 86.0\n",
      "Normal precision: 95.0\n",
      "CNV precision: 93.0\n"
     ]
    }
   ],
   "source": [
    "# calculating accuracy per class. . . by hand again, sorry\n",
    "# accuracy = (TP + TN) / (TP + TN + FP + FN)\n",
    "# (TP + TN) will be the same for every class - it's just the total of the diagonal cells\n",
    "# TP + TN = 7472\n",
    "# denominator for every class will be 7472 + the sum of the other cells in its row and column\n",
    "\n",
    "drusen_acc = round(7472 / (7472 + 542),2) * 100\n",
    "dme_acc = round(7472 / (7472 + 322),2) * 100\n",
    "normal_acc = round(7472 / (7472 + 541),2) * 100\n",
    "cnv_acc = round(7472 / (7472 + 373),2) * 100\n",
    "\n",
    "print(f'Drusen acc: {drusen_acc}')\n",
    "print(f'DME acc: {dme_acc}')\n",
    "print(f'Normal acc: {normal_acc}')\n",
    "print(f'CNV acc: {cnv_acc}')\n",
    "print('')\n",
    "\n",
    "# hmm, that shows the model predicted normal pictures just as well as drusen, which is not what I was looking\n",
    "# for\n",
    "# maybe precision? TP / (TP + FP)\n",
    "\n",
    "drusen_precision = round(507 / (857 + 350),2) * 100\n",
    "dme_precision = round(973 / (973 + 154),2) * 100\n",
    "normal_precision = round(2572 / (2572 + 145),2) * 100\n",
    "cnv_precision = round(3420 / (3420 + 240),2) * 100\n",
    "\n",
    "print(f'Drusen precision: {drusen_precision}')\n",
    "print(f'DME precision: {dme_precision}')\n",
    "print(f'Normal precision: {normal_precision}')\n",
    "print(f'CNV precision: {cnv_precision}')"
   ]
  },
  {
   "cell_type": "code",
   "execution_count": 77,
   "metadata": {},
   "outputs": [
    {
     "name": "stdout",
     "output_type": "stream",
     "text": [
      "Train on 53507 samples, validate on 13377 samples\n",
      "Epoch 1/10\n",
      "53507/53507 [==============================] - 1617s 30ms/step - loss: 0.8691 - acc: 0.6603 - val_loss: 0.7929 - val_acc: 0.6966\n",
      "Epoch 2/10\n",
      "53507/53507 [==============================] - 1507s 28ms/step - loss: 0.7538 - acc: 0.7102 - val_loss: 0.8290 - val_acc: 0.6850\n",
      "Epoch 3/10\n",
      "53507/53507 [==============================] - 1453s 27ms/step - loss: 0.7128 - acc: 0.7264 - val_loss: 0.7220 - val_acc: 0.7197\n",
      "Epoch 4/10\n",
      "53507/53507 [==============================] - 1433s 27ms/step - loss: 0.6874 - acc: 0.7384 - val_loss: 0.7191 - val_acc: 0.7265\n",
      "Epoch 5/10\n",
      "53507/53507 [==============================] - 1508s 28ms/step - loss: 0.6709 - acc: 0.7432 - val_loss: 0.6981 - val_acc: 0.7319\n",
      "Epoch 6/10\n",
      "53507/53507 [==============================] - 1491s 28ms/step - loss: 0.6559 - acc: 0.7494 - val_loss: 0.7129 - val_acc: 0.7297\n",
      "Epoch 7/10\n",
      "53507/53507 [==============================] - 1528s 29ms/step - loss: 0.6442 - acc: 0.7544 - val_loss: 0.6765 - val_acc: 0.7431\n",
      "Epoch 8/10\n",
      "53507/53507 [==============================] - 1493s 28ms/step - loss: 0.6350 - acc: 0.7579 - val_loss: 0.6976 - val_acc: 0.7365\n",
      "Epoch 9/10\n",
      "53507/53507 [==============================] - 1532s 29ms/step - loss: 0.6209 - acc: 0.7641 - val_loss: 0.7012 - val_acc: 0.7341\n",
      "Epoch 10/10\n",
      "53507/53507 [==============================] - 1463s 27ms/step - loss: 0.6149 - acc: 0.7656 - val_loss: 0.6456 - val_acc: 0.7546\n",
      "Time elapsed: 4:10:24.661511\n"
     ]
    }
   ],
   "source": [
    "# Evidence of a 4+ hour mistake\n",
    "# start = datetime.datetime.now()\n",
    "\n",
    "# model.fit(X_train, y_train, epochs=10, validation_split=0.2)\n",
    "# elapsed = datetime.datetime.now() - start\n",
    "# print(f'Time elapsed: {elapsed}')"
   ]
  },
  {
   "cell_type": "code",
   "execution_count": 83,
   "metadata": {},
   "outputs": [],
   "source": [
    "# model.save('Models/vgg19_10_epochs.h5')"
   ]
  }
 ],
 "metadata": {
  "kernelspec": {
   "display_name": "Python [default]",
   "language": "python",
   "name": "python3"
  },
  "language_info": {
   "codemirror_mode": {
    "name": "ipython",
    "version": 3
   },
   "file_extension": ".py",
   "mimetype": "text/x-python",
   "name": "python",
   "nbconvert_exporter": "python",
   "pygments_lexer": "ipython3",
   "version": "3.6.6"
  },
  "toc": {
   "base_numbering": 1,
   "nav_menu": {},
   "number_sections": false,
   "sideBar": true,
   "skip_h1_title": false,
   "title_cell": "Table of Contents",
   "title_sidebar": "Contents",
   "toc_cell": false,
   "toc_position": {
    "height": "calc(100% - 180px)",
    "left": "10px",
    "top": "150px",
    "width": "279.188px"
   },
   "toc_section_display": true,
   "toc_window_display": true
  }
 },
 "nbformat": 4,
 "nbformat_minor": 2
}
