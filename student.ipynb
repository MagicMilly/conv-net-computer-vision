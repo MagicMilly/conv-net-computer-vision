{
 "cells": [
  {
   "cell_type": "markdown",
   "metadata": {},
   "source": [
    "## Module 4 Final Project Submission - Computer Vision\n",
    "\n",
    "* Student name: Emily J. Cain\n",
    "* Student pace: Full Time\n",
    "* Scheduled project review date/time: \n",
    "* Instructor name: Rafael Carrasco\n",
    "* Blog post URL: https://medium.com/@magicmilly\n"
   ]
  },
  {
   "cell_type": "markdown",
   "metadata": {},
   "source": [
    "## I. Load & Organize Data\n",
    "## II. Inspection & Exploratory Data Analysis\n",
    "## III. Preprocessing\n",
    "## IV. Modeling \n",
    "## V. Model Evaluation\n",
    "## VI. Conclusions & Recommendations"
   ]
  },
  {
   "cell_type": "code",
   "execution_count": 5,
   "metadata": {},
   "outputs": [],
   "source": [
    "import datetime\n",
    "import numpy as np\n",
    "import os\n",
    "import pandas as pd\n",
    "import scipy\n",
    "# import shutil\n",
    "import time\n",
    "import warnings\n",
    "# import zipfile\n",
    "\n",
    "from keras import layers\n",
    "from keras import models \n",
    "from keras.preprocessing.image import ImageDataGenerator, array_to_img, img_to_array, load_img\n",
    "from PIL import Image\n",
    "from scipy import ndimage\n",
    "\n",
    "import matplotlib.pyplot as plt\n",
    "import seaborn as sns\n",
    "\n",
    "%matplotlib inline\n",
    "warnings.filterwarnings(action='ignore', category=FutureWarning)"
   ]
  },
  {
   "cell_type": "markdown",
   "metadata": {},
   "source": [
    "## I. Load & Organize Data"
   ]
  },
  {
   "cell_type": "code",
   "execution_count": 11,
   "metadata": {},
   "outputs": [
    {
     "name": "stdout",
     "output_type": "stream",
     "text": [
      "There are 83484 training images.\n"
     ]
    }
   ],
   "source": [
    "# calculate amount of training images\n",
    "cnv_train_imgs = len(os.listdir('Data/train/CNV'))\n",
    "dme_train_imgs = len(os.listdir('Data/train/DME'))\n",
    "drusen_train_imgs = len(os.listdir('Data/train/DRUSEN'))\n",
    "normal_train_imgs = len(os.listdir('Data/train/NORMAL'))\n",
    "\n",
    "total_train_imgs = cnv_train_imgs + dme_train_imgs + drusen_train_imgs + normal_train_imgs\n",
    "print(f'There are {total_train_imgs} training images.')"
   ]
  },
  {
   "cell_type": "code",
   "execution_count": null,
   "metadata": {},
   "outputs": [],
   "source": []
  }
 ],
 "metadata": {
  "kernelspec": {
   "display_name": "Python [default]",
   "language": "python",
   "name": "python3"
  },
  "language_info": {
   "codemirror_mode": {
    "name": "ipython",
    "version": 3
   },
   "file_extension": ".py",
   "mimetype": "text/x-python",
   "name": "python",
   "nbconvert_exporter": "python",
   "pygments_lexer": "ipython3",
   "version": "3.6.6"
  }
 },
 "nbformat": 4,
 "nbformat_minor": 2
}
