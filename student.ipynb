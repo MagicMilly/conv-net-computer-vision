{
 "cells": [
  {
   "cell_type": "markdown",
   "metadata": {},
   "source": [
    "## Module 4 Final Project Submission - Computer Vision\n",
    "\n",
    "* Student name: Emily J. Cain\n",
    "* Student pace: Full Time\n",
    "* Scheduled project review date/time: \n",
    "* Instructor name: Rafael Carrasco\n",
    "* Blog post URL: https://medium.com/@magicmilly\n"
   ]
  },
  {
   "cell_type": "markdown",
   "metadata": {},
   "source": [
    "#### Here I will write about my awesome project and why it's important"
   ]
  },
  {
   "cell_type": "markdown",
   "metadata": {},
   "source": [
    "## I. Load & Organize Data\n",
    "## II. Inspection & Exploratory Data Analysis\n",
    "## III. Preprocessing\n",
    "## IV. Modeling \n",
    "## V. Model Evaluation\n",
    "## VI. Conclusions & Recommendations"
   ]
  },
  {
   "cell_type": "code",
   "execution_count": null,
   "metadata": {},
   "outputs": [],
   "source": [
    "import cv2\n",
    "import datetime\n",
    "import numpy as np\n",
    "import os\n",
    "import pandas as pd\n",
    "import random\n",
    "import scipy\n",
    "# import shutil\n",
    "# import time\n",
    "import warnings\n",
    "# import zipfile\n",
    "\n",
    "from keras import layers\n",
    "from keras import models \n",
    "# from keras.preprocessing.image import ImageDataGenerator, array_to_img, img_to_array, load_img\n",
    "from keras.utils import to_categorical \n",
    "from matplotlib.pyplot import imshow\n",
    "from PIL import Image\n",
    "# from scipy import ndimage\n",
    "# from skimage.io import imread \n",
    "# from skimage.transform import resize\n",
    "\n",
    "import matplotlib.pyplot as plt\n",
    "import seaborn as sns\n",
    "\n",
    "%matplotlib inline\n",
    "warnings.filterwarnings(action='ignore', category=FutureWarning)\n",
    "\n",
    "# start = datetime.datetime.now()"
   ]
  },
  {
   "cell_type": "markdown",
   "metadata": {},
   "source": [
    "## I. Load & Organize Data"
   ]
  },
  {
   "cell_type": "code",
   "execution_count": null,
   "metadata": {},
   "outputs": [],
   "source": [
    "# calculate amount of images\n",
    "cnv_imgs = len(os.listdir('Data/cnv'))\n",
    "dme_imgs = len(os.listdir('Data/dme'))\n",
    "drusen_imgs = len(os.listdir('Data/drusen'))\n",
    "normal_imgs = len(os.listdir('Data/normal'))\n",
    "\n",
    "total_imgs = cnv_imgs + dme_imgs + drusen_imgs + normal_imgs\n",
    "print(f'There are {total_imgs} total images.')"
   ]
  },
  {
   "cell_type": "code",
   "execution_count": null,
   "metadata": {},
   "outputs": [],
   "source": [
    "# inspect an original image\n",
    "test_img = Image.open('Data/cnv/CNV-6294785-1.jpeg')\n",
    "# test_img.show() - this opens image in new window\n",
    "imshow(np.asarray(test_img)); # imshow for inline image"
   ]
  },
  {
   "cell_type": "markdown",
   "metadata": {},
   "source": [
    "#### Resize and label images"
   ]
  },
  {
   "cell_type": "code",
   "execution_count": null,
   "metadata": {},
   "outputs": [],
   "source": [
    "img_classes = ['normal', 'cnv', 'dme', 'drusen']\n",
    "img_size = 40\n",
    "original_dir = 'Data'\n",
    "\n",
    "if data:\n",
    "    data = data\n",
    "else:\n",
    "    data = []\n",
    "\n",
    "if not data:\n",
    "    for img_class in img_classes:\n",
    "\n",
    "        path = os.path.join(original_dir, img_class)\n",
    "        # assign numeric value to class labels\n",
    "        class_num = img_classes.index(img_class)\n",
    "\n",
    "        for img in os.listdir(path):\n",
    "\n",
    "            file = os.path.join(path, img)\n",
    "            if file.endswith('.jpeg'):\n",
    "                img_array = cv2.imread(os.path.join(path, img), cv2.IMREAD_GRAYSCALE)\n",
    "                # resize images to (40,40)\n",
    "                resize_array = cv2.resize(img_array, (img_size, img_size))\n",
    "                # create new data list of resized images with their class labels\n",
    "                data.append([resize_array, class_num])\n",
    "            else:\n",
    "                print(file)\n",
    "else:\n",
    "    print('Data dun loaded, dood')\n",
    "    print(len(data))"
   ]
  },
  {
   "cell_type": "code",
   "execution_count": null,
   "metadata": {},
   "outputs": [],
   "source": [
    "np.save('./Data/img_array', data)"
   ]
  },
  {
   "cell_type": "code",
   "execution_count": null,
   "metadata": {},
   "outputs": [],
   "source": [
    "db = np.load(\"./Data/img_array.npy\")"
   ]
  },
  {
   "cell_type": "code",
   "execution_count": null,
   "metadata": {},
   "outputs": [],
   "source": [
    "db.shape"
   ]
  },
  {
   "cell_type": "code",
   "execution_count": null,
   "metadata": {},
   "outputs": [],
   "source": [
    "data = np.array(data)"
   ]
  },
  {
   "cell_type": "code",
   "execution_count": null,
   "metadata": {},
   "outputs": [],
   "source": [
    "data.shape"
   ]
  },
  {
   "cell_type": "code",
   "execution_count": null,
   "metadata": {},
   "outputs": [],
   "source": [
    "db[0][1]"
   ]
  },
  {
   "cell_type": "code",
   "execution_count": null,
   "metadata": {},
   "outputs": [],
   "source": [
    "data[0]"
   ]
  },
  {
   "cell_type": "markdown",
   "metadata": {},
   "source": [
    "verify"
   ]
  },
  {
   "cell_type": "code",
   "execution_count": null,
   "metadata": {},
   "outputs": [],
   "source": []
  }
 ],
 "metadata": {
  "kernelspec": {
   "display_name": "Python [default]",
   "language": "python",
   "name": "python3"
  },
  "language_info": {
   "codemirror_mode": {
    "name": "ipython",
    "version": 3
   },
   "file_extension": ".py",
   "mimetype": "text/x-python",
   "name": "python",
   "nbconvert_exporter": "python",
   "pygments_lexer": "ipython3",
   "version": "3.6.6"
  }
 },
 "nbformat": 4,
 "nbformat_minor": 2
}
